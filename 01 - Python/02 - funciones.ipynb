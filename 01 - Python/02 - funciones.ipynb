{
 "cells": [
  {
   "cell_type": "code",
   "execution_count": 1,
   "metadata": {},
   "outputs": [
    {
     "name": "stdout",
     "output_type": "stream",
     "text": [
      "Hola mundo\n"
     ]
    },
    {
     "data": {
      "text/plain": [
       "NoneType"
      ]
     },
     "execution_count": 1,
     "metadata": {},
     "output_type": "execute_result"
    }
   ],
   "source": [
    "# Funciones\n",
    "def hola_mundo():\n",
    "    print(\"Hola mundo\")\n",
    "type(hola_mundo())"
   ]
  },
  {
   "cell_type": "code",
   "execution_count": 4,
   "metadata": {},
   "outputs": [
    {
     "name": "stdout",
     "output_type": "stream",
     "text": [
      "La suma de 12 y 18 es igual a 30\n"
     ]
    }
   ],
   "source": [
    "def sumar_dos_numeros(num_uno, num_dos): # parametros requeridos\n",
    "    return num_uno + num_dos\n",
    "# print(sumar_dos_numeros(12,18))\n",
    "total_suma = sumar_dos_numeros(12,18)\n",
    "print(f\"La suma de 12 y 18 es igual a {total_suma}\")"
   ]
  },
  {
   "cell_type": "code",
   "execution_count": 6,
   "metadata": {},
   "outputs": [
    {
     "name": "stdout",
     "output_type": "stream",
     "text": [
      "Universidad: EPN\n",
      "Universidad: ESPE\n"
     ]
    }
   ],
   "source": [
    "def imprimir_universidad(nombre = \"EPN\"): # parametros no requeridos\n",
    "    print(f\"Universidad: {nombre}\")\n",
    "imprimir_universidad()\n",
    "imprimir_universidad(\"ESPE\")"
   ]
  },
  {
   "cell_type": "code",
   "execution_count": 7,
   "metadata": {},
   "outputs": [
    {
     "name": "stdout",
     "output_type": "stream",
     "text": [
      "Color: Blanco\n",
      "Placa: ABC-123\n",
      "HP: 3000\n",
      "anio: 1989\n"
     ]
    }
   ],
   "source": [
    "def imprimir_carro(color, placa, hp, anio = 1989):\n",
    "    print(f\"Color: {color}\")\n",
    "    print(f\"Placa: {placa}\")\n",
    "    print(f\"HP: {hp}\")\n",
    "    print(f\"anio: {anio}\")\n",
    "imprimir_carro(\"Blanco\", \"ABC-123\", 3000)"
   ]
  },
  {
   "cell_type": "code",
   "execution_count": 8,
   "metadata": {},
   "outputs": [
    {
     "name": "stdout",
     "output_type": "stream",
     "text": [
      "Color: Negro\n",
      "Placa: ABC-123\n",
      "HP: 2500\n",
      "anio: 1989\n"
     ]
    }
   ],
   "source": [
    "# Named parameters (parametros nombrados)\n",
    "imprimir_carro(color = \"Negro\", \n",
    "               placa = \"ABC-123\", \n",
    "               hp = 2500, \n",
    "               anio = 1989)"
   ]
  },
  {
   "cell_type": "code",
   "execution_count": 9,
   "metadata": {},
   "outputs": [
    {
     "name": "stdout",
     "output_type": "stream",
     "text": [
      "Color: Negro\n",
      "Placa: ABC-123\n",
      "HP: 2500\n",
      "anio: 1995\n"
     ]
    }
   ],
   "source": [
    "# REGLA: Podemos usar parametros por posicion y luego todos los demas\n",
    "#        Podemos usar parametros nombrados\n",
    "imprimir_carro(\"Negro\", \"ABC-123\", anio = 1995, hp = 2500)"
   ]
  },
  {
   "cell_type": "code",
   "execution_count": 10,
   "metadata": {},
   "outputs": [
    {
     "data": {
      "text/plain": [
       "21"
      ]
     },
     "execution_count": 10,
     "metadata": {},
     "output_type": "execute_result"
    }
   ],
   "source": [
    "def sumar_numeros(primer_numero,\n",
    "                 *numeros): #Parametros infinitos\n",
    "    suma = primer_numero\n",
    "    for numero in numeros:\n",
    "        suma = suma + numero\n",
    "    return suma\n",
    "sumar_numeros(1,2,3,4,5,6)"
   ]
  },
  {
   "cell_type": "code",
   "execution_count": 13,
   "metadata": {},
   "outputs": [
    {
     "name": "stdout",
     "output_type": "stream",
     "text": [
      "{'saludo': 'hola', 'mensaje': 'mundo'}\n",
      "<class 'dict'>\n"
     ]
    }
   ],
   "source": [
    "def establecer_configuracion(**kwargs): #Key word arguments, parametros nombrados\n",
    "    print(kwargs)\n",
    "    print(type(kwargs))\n",
    "establecer_configuracion(saludo = \"hola\", mensaje = \"mundo\")"
   ]
  },
  {
   "cell_type": "code",
   "execution_count": 14,
   "metadata": {},
   "outputs": [],
   "source": [
    "def ejemplo (requerido_uno,\n",
    "            requerido_dos,\n",
    "            opcional_uno = 1,\n",
    "            opcional_dos = 2,\n",
    "            *infinitos,\n",
    "            **kwargs):\n",
    "    print(\":)\")"
   ]
  }
 ],
 "metadata": {
  "kernelspec": {
   "display_name": "Python 3",
   "language": "python",
   "name": "python3"
  },
  "language_info": {
   "codemirror_mode": {
    "name": "ipython",
    "version": 3
   },
   "file_extension": ".py",
   "mimetype": "text/x-python",
   "name": "python",
   "nbconvert_exporter": "python",
   "pygments_lexer": "ipython3",
   "version": "3.7.6"
  }
 },
 "nbformat": 4,
 "nbformat_minor": 4
}

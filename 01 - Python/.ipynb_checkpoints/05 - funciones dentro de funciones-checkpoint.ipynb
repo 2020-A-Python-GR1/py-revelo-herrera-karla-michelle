{
 "cells": [
  {
   "cell_type": "code",
   "execution_count": 10,
   "metadata": {},
   "outputs": [
    {
     "data": {
      "text/plain": [
       "<function __main__.calculadora.<locals>.division()>"
      ]
     },
     "execution_count": 10,
     "metadata": {},
     "output_type": "execute_result"
    }
   ],
   "source": [
    "def calculadora (num_uno, num_dos, operacion):\n",
    "    \n",
    "    def suma():\n",
    "        print(\"Suma\")\n",
    "        return num_uno + num_dos\n",
    "    \n",
    "    def resta():\n",
    "        print(\"Resta\")\n",
    "        return num_uno - num_dos\n",
    "    \n",
    "    def multiplicacion():\n",
    "        print(\"Multiplicacion\")\n",
    "        return num_uno * num_dos\n",
    "    \n",
    "    def division():\n",
    "        print(\"Division\")\n",
    "        return num_uno / num_dos\n",
    "    \n",
    "    def devolver_respuesta():\n",
    "        \n",
    "        opciones = {\n",
    "            \"suma\": suma, # Definicion de la funcion\n",
    "            \"resta\": resta,\n",
    "            \"multplicacion\": multiplicacion,\n",
    "            \"division\": division\n",
    "        }\n",
    "        \n",
    "        return opciones[operacion]() #Ejecucion de la funcion\n",
    "    \n",
    "    return devolver_respuesta()\n",
    "    \n",
    "\n",
    "calculadora(4,2, \"division\")\n",
    "    "
   ]
  },
  {
   "cell_type": "code",
   "execution_count": null,
   "metadata": {},
   "outputs": [],
   "source": []
  }
 ],
 "metadata": {
  "kernelspec": {
   "display_name": "Python 3",
   "language": "python",
   "name": "python3"
  },
  "language_info": {
   "codemirror_mode": {
    "name": "ipython",
    "version": 3
   },
   "file_extension": ".py",
   "mimetype": "text/x-python",
   "name": "python",
   "nbconvert_exporter": "python",
   "pygments_lexer": "ipython3",
   "version": "3.7.6"
  }
 },
 "nbformat": 4,
 "nbformat_minor": 4
}

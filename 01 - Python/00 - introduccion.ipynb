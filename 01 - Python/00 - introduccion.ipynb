{
 "cells": [
  {
   "cell_type": "code",
   "execution_count": 4,
   "metadata": {},
   "outputs": [
    {
     "name": "stdout",
     "output_type": "stream",
     "text": [
      "Hola mundo\n"
     ]
    }
   ],
   "source": [
    "print (\"Hola mundo\")"
   ]
  },
  {
   "cell_type": "code",
   "execution_count": 6,
   "metadata": {},
   "outputs": [
    {
     "name": "stdout",
     "output_type": "stream",
     "text": [
      "Hola mundo\n"
     ]
    }
   ],
   "source": [
    "print (\"Hola mundo\")"
   ]
  },
  {
   "cell_type": "code",
   "execution_count": 6,
   "metadata": {},
   "outputs": [
    {
     "name": "stdout",
     "output_type": "stream",
     "text": [
      "<class 'int'>\n",
      "<class 'float'>\n",
      "<class 'str'>\n",
      "<class 'str'>\n",
      "<class 'str'>\n",
      "<class 'bool'>\n",
      "<class 'bool'>\n",
      "<class 'NoneType'>\n"
     ]
    }
   ],
   "source": [
    "# Lenguaje no tipado\n",
    "# Variables primitivas\n",
    "entero = 4\n",
    "decimal = 1.1\n",
    "nombre = \"Karlita\"\n",
    "segundo_nombre = \"Michelle\" # no segundoNombre\n",
    "apellido = \"Revelo\"\n",
    "casado = False\n",
    "estudiante = True\n",
    "hijos = None\n",
    "print(type(entero)) #int\n",
    "print(type(decimal)) #float\n",
    "print(type(nombre)) #str\n",
    "print(type(segundo_nombre)) #str\n",
    "print(type(apellido)) #str\n",
    "print(type(casado)) #bool\n",
    "print(type(estudiante)) #bool\n",
    "print(type(hijos)) #NoneType\n",
    "\n"
   ]
  },
  {
   "cell_type": "code",
   "execution_count": 10,
   "metadata": {},
   "outputs": [
    {
     "name": "stdout",
     "output_type": "stream",
     "text": [
      "\n",
      "Hola mi nombre es Karla Michelle Revelo Herrera\n",
      "\n"
     ]
    }
   ],
   "source": [
    "cadena_de_texto = \"\"\"\n",
    "Hola mi nombre es Karla Michelle Revelo Herrera\n",
    "\"\"\"\n",
    "print (cadena_de_texto)"
   ]
  },
  {
   "cell_type": "code",
   "execution_count": 7,
   "metadata": {},
   "outputs": [
    {
     "name": "stdout",
     "output_type": "stream",
     "text": [
      "4\n",
      "None\n"
     ]
    }
   ],
   "source": [
    "print(entero)\n",
    "entero = decimal\n",
    "entero = casado\n",
    "entero = estudiante\n",
    "entero = hijos\n",
    "print(entero)"
   ]
  },
  {
   "cell_type": "code",
   "execution_count": 10,
   "metadata": {},
   "outputs": [
    {
     "name": "stdout",
     "output_type": "stream",
     "text": [
      "Truty\n",
      "Falsy\n"
     ]
    }
   ],
   "source": [
    "# Condiciones\n",
    "# Truty - Falsy\n",
    "tuplas = (1,2,3) # Arreglos que no se pueden modificar\n",
    "listas = [4,5,6] # Arreglos que se pueden modificar\n",
    "diccionario = {\n",
    "    \"nombre\" : \"Karlita\"\n",
    "}\n",
    "if('Karlita'): #Truty\n",
    "    # ...\n",
    "    # ...\n",
    "    print('Truty')\n",
    "else:\n",
    "    # ...\n",
    "    # ...\n",
    "    print('Falsy')\n",
    "\n",
    "if(''): #Falsy\n",
    "    # ...\n",
    "    # ...\n",
    "    print('Truty')\n",
    "else:\n",
    "    # ...\n",
    "    # ...\n",
    "    print('Falsy')\n",
    "\n"
   ]
  },
  {
   "cell_type": "code",
   "execution_count": null,
   "metadata": {},
   "outputs": [],
   "source": []
  }
 ],
 "metadata": {
  "kernelspec": {
   "display_name": "Python 3",
   "language": "python",
   "name": "python3"
  },
  "language_info": {
   "codemirror_mode": {
    "name": "ipython",
    "version": 3
   },
   "file_extension": ".py",
   "mimetype": "text/x-python",
   "name": "python",
   "nbconvert_exporter": "python",
   "pygments_lexer": "ipython3",
   "version": "3.7.6"
  }
 },
 "nbformat": 4,
 "nbformat_minor": 4
}

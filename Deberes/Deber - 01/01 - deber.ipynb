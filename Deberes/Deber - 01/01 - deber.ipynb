{
 "cells": [
  {
   "cell_type": "code",
   "execution_count": 1,
   "metadata": {},
   "outputs": [],
   "source": [
    "def crear_ejercicios(ide, nombre, duracion, repeticiones, elimina_grasa, tonifica):\n",
    "    try:\n",
    "        path = \"./ejercicios.txt\"\n",
    "        ejercicios = open(path, 'a')        \n",
    "        ejercicios.writelines(f\"{ide}\" + \"; \" + \n",
    "                              f\"{nombre}\" + \"; \" + \n",
    "                              f\"{duracion}\" + \"; \" + \n",
    "                              f\"{repeticiones}\" + \"; \" + \n",
    "                              f\"{elimina_grasa}\" + \"; \" + \n",
    "                              f\"{tonifica} \\n\")\n",
    "        # print('llegue aqui')\n",
    "        ejercicios.close()\n",
    "    except Exception as error:\n",
    "        print(\"Error creando ejercicio\")\n",
    "\n",
    "    return [str(ide), nombre, str(duracion), str(repeticiones), \n",
    "                 str(elimina_grasa), str(tonifica)]\n"
   ]
  },
  {
   "cell_type": "code",
   "execution_count": 2,
   "metadata": {},
   "outputs": [],
   "source": [
    "def imprimir_cabeceras():\n",
    "    try:\n",
    "        pathE = \"./ejercicios.txt\"\n",
    "        pathM = \"./musculos.txt\"\n",
    "        #ejercicios = open(pathE, 'w')\n",
    "        musculos = open(pathM, 'w')\n",
    "        #ejercicios.writelines(\"ID, NOMBRE, DURACION, REPETICIONES, ¿ELIMINA GRASA?, ¿TONIFICA? \\n\")\n",
    "        musculos.writelines(\"ID, NOMBRE EJERCICIO, NOMBRE MÚSCULO, UBICACION, ¿DEFINIDO O NO DEFINIDO?, MASA MUSCULAR \\n\")\n",
    "        #ejercicios.close()\n",
    "        musculos.close()\n",
    "    except Exception as error:\n",
    "        print(\"Error escribiendo cabeceras\")\n",
    "    \n",
    "imprimir_cabeceras()"
   ]
  },
  {
   "cell_type": "code",
   "execution_count": 3,
   "metadata": {},
   "outputs": [],
   "source": [
    "def crear_musculos(ide, nombre_ej, nombre, ubicacion, elasticidad, masa_muscular):\n",
    "    try:\n",
    "        path = \"./musculos.txt\"\n",
    "        musculos = open(path, 'a')\n",
    "        musculos.writelines(f\"{ide}\" + \"; \" + \n",
    "                            f\"{nombre_ej}\" + \"; \" +\n",
    "                            f\"{nombre}\" + \"; \" + \n",
    "                            f\"{ubicacion}\" + \"; \" +\n",
    "                            f\"{elasticidad}\" + \"; \" + \n",
    "                            f\"{masa_muscular}\\n\")        \n",
    "        musculos.close()\n",
    "    except Exception as error:\n",
    "        print(\"Error creando musculo\")\n",
    "\n",
    "    return [str(ide), nombre_ej, nombre, ubicacion, str(elasticidad), \n",
    "                 str(masa_muscular)]\n"
   ]
  },
  {
   "cell_type": "code",
   "execution_count": 4,
   "metadata": {},
   "outputs": [],
   "source": [
    "def buscar_ejercicio(nombre):\n",
    "    cont = 0\n",
    "    try:\n",
    "        pathE = \"./ejercicios.txt\"\n",
    "        pathM = \"./musculos.txt\"\n",
    "        ejercicios = open(pathE, 'r')\n",
    "        musculos = open(pathM, 'r')\n",
    "        busquedaE = ejercicios.readlines()\n",
    "        busquedaM = musculos.readlines()\n",
    "        print('EJERCICIO \\n')\n",
    "        for ejercicio in busquedaE:            \n",
    "            if nombre in ejercicio:\n",
    "                print(ejercicio)\n",
    "                break\n",
    "        print('MÚSCULOS \\n')\n",
    "        for musculo in busquedaM:\n",
    "            if nombre in musculo:\n",
    "                print(musculo)\n",
    "    except Exception as error:\n",
    "        print(\"Error buscando el ejercicio\")"
   ]
  },
  {
   "cell_type": "code",
   "execution_count": 5,
   "metadata": {},
   "outputs": [],
   "source": [
    "def actualizar_ejercicio(nombre, nombre_dato, nuevo_dato):    \n",
    "    cont = 0\n",
    "    try:\n",
    "        path = \"./ejercicios.txt\"\n",
    "        ejercicios = open(path, 'r')        \n",
    "        contenido = ejercicios.readlines()                        \n",
    "        opciones = {\n",
    "            #\"ID\": 0, # Definicion de la funcion\n",
    "            #\"NOMBRE\": 1,\n",
    "            \"duracion\": 2,\n",
    "            \"repeticiones\": 3,\n",
    "            \"elimina grasa\": 4,\n",
    "            \"tonifica\": 5\n",
    "        }\n",
    "        columna = opciones.get(nombre_dato, \"Parámetro inválido\")\n",
    "        # print(columna) \n",
    "        filas = [cantidad_filas_ejercicios(nombre)]\n",
    "        # print(filas)\n",
    "        for fila in filas:            \n",
    "            columnas = contenido[fila-1].split(';')            \n",
    "            columnas[columna] = nuevo_dato            \n",
    "            contenido[fila-1] = ';'.join(columnas)            \n",
    "        ejercicios = open(path, 'w')\n",
    "        ejercicios.writelines(contenido)\n",
    "        ejercicios.close()        \n",
    "    except Exception as error:\n",
    "        print(\"Error actualizando ejercicio\")"
   ]
  },
  {
   "cell_type": "code",
   "execution_count": 7,
   "metadata": {},
   "outputs": [],
   "source": [
    "def cantidad_filas_ejercicios(nombre):\n",
    "    cont = 0\n",
    "    try:\n",
    "        pathE = \"./ejercicios.txt\"        \n",
    "        ejercicios = open(pathE, 'r')        \n",
    "        busquedaE = ejercicios.readlines()        \n",
    "        for ejercicio in busquedaE:\n",
    "            cont = cont + 1\n",
    "            if nombre in ejercicio:                \n",
    "                break\n",
    "        lineas = cont        \n",
    "    except Exception as error:\n",
    "        print(\"Error buscando el archivo\")\n",
    "    return lineas   "
   ]
  },
  {
   "cell_type": "code",
   "execution_count": 8,
   "metadata": {},
   "outputs": [
    {
     "data": {
      "text/plain": [
       "6"
      ]
     },
     "execution_count": 8,
     "metadata": {},
     "output_type": "execute_result"
    }
   ],
   "source": [
    "cantidad_filas_ejercicios('plancha')"
   ]
  },
  {
   "cell_type": "code",
   "execution_count": 9,
   "metadata": {},
   "outputs": [],
   "source": [
    "def actualizar_musculo(nombre_ejercicio, nombre_musculo, nombre_dato, nuevo_dato):    \n",
    "    cont = 0\n",
    "    try:\n",
    "        path = \"./musculos.txt\"\n",
    "        musculos = open(path, 'r')        \n",
    "        contenido = musculos.readlines()                        \n",
    "        opciones = {                    \n",
    "            #\"ID\": 0, # Definicion de la funcion\n",
    "            #\"NOMBRE EJERCICIO\": 1,\n",
    "            \"nombre\": 2,\n",
    "            \"ubicacion\": 3,\n",
    "            \"definicion\": 4,\n",
    "            \"masa muscular\": 5           \n",
    "        }\n",
    "        columna = opciones.get(nombre_dato, \"Parámetro inválido\")\n",
    "        print(columna) \n",
    "        filas = [cantidad_filas_musculos(nombre_ejercicio, nombre_musculo)]\n",
    "        print(filas)\n",
    "        for fila in filas:            \n",
    "            columnas = contenido[fila-1].split(';')            \n",
    "            columnas[columna] = nuevo_dato           \n",
    "            contenido[fila-1] = ';'.join(columnas) \n",
    "        musculos = open(path, 'w')\n",
    "        musculos.writelines(contenido)\n",
    "        musculos.close()        \n",
    "    except Exception as error:\n",
    "        print('Error de actualizacion de musculo')"
   ]
  },
  {
   "cell_type": "code",
   "execution_count": 10,
   "metadata": {},
   "outputs": [],
   "source": [
    "def cantidad_filas_musculos(nombre_ejercicio, nombre_musculo):    \n",
    "    contador = 0\n",
    "    try:\n",
    "        pathM = \"./musculos.txt\"        \n",
    "        musculos = open(pathM, 'r')        \n",
    "        busquedaMusculos = musculos.readlines() \n",
    "        #print('fuera de for')\n",
    "        for linea in busquedaMusculos:            \n",
    "            contador = contador + 1\n",
    "            #print(nombre_musculo)\n",
    "            #print(nombre_ejercicio)\n",
    "            if nombre_ejercicio in linea:  \n",
    "                if nombre_musculo in linea:\n",
    "                   # print(nombre_musculo)\n",
    "                    break       \n",
    "    except Exception as error:\n",
    "        print(\"Error buscando el archivo\")\n",
    "    return contador"
   ]
  },
  {
   "cell_type": "code",
   "execution_count": 11,
   "metadata": {},
   "outputs": [
    {
     "data": {
      "text/plain": [
       "1"
      ]
     },
     "execution_count": 11,
     "metadata": {},
     "output_type": "execute_result"
    }
   ],
   "source": [
    "cantidad_filas_musculos('flexiones de pecho','deltoides')"
   ]
  },
  {
   "cell_type": "code",
   "execution_count": 12,
   "metadata": {},
   "outputs": [],
   "source": [
    "def eliminar_ejercicios(nombre):    \n",
    "    cont = 0\n",
    "    try:\n",
    "        pathE = \"./ejercicios.txt\"\n",
    "        pathM = \"./musculos.txt\"\n",
    "        ejercicios = open(pathE, 'r')\n",
    "        musculos = open(pathM, 'r')\n",
    "        contenidoE = ejercicios.readlines()\n",
    "        contenidoM = musculos.readlines()\n",
    "        \n",
    "        ejercicios = open(pathE, 'w')\n",
    "        musculos = open(pathM, 'w')        \n",
    "        for ejercicio in contenidoE:             \n",
    "            if nombre not in ejercicio:\n",
    "                ejercicios.write(ejercicio)                \n",
    "        for musculo in contenidoM:             \n",
    "            if nombre not in musculo:\n",
    "                musculos.write(musculo)                \n",
    "    except Exception as error:\n",
    "        print(\"Error eliminando el ejercicio\")"
   ]
  },
  {
   "cell_type": "code",
   "execution_count": 13,
   "metadata": {},
   "outputs": [],
   "source": [
    "def eliminar_musculo(nombre_ejercicio, nombre_musculo):        \n",
    "    cont = 0\n",
    "    elementos = []\n",
    "    try:        \n",
    "        pathM = \"./musculos.txt\"        \n",
    "        musculos = open(pathM, 'r')        \n",
    "        contenidoM = musculos.readlines()          \n",
    "        filas = cantidad_filas_musculos(nombre_ejercicio, nombre_musculo)\n",
    "        #print(filas)    \n",
    "        musculos = open(pathM, 'w')\n",
    "        for musculo in contenidoM:\n",
    "            #print('entre al fro')            \n",
    "            while contenidoM[cont] not in musculo:\n",
    "            #if nombre_musculo not in musculo: \n",
    "                #print('en el if')  \n",
    "                #print(contenidoM[cont]) \n",
    "                musculos.write(contenidoM[cont])                                                       \n",
    "                cont = cont + 1\n",
    "                if (cont == filas - 1):                    \n",
    "                    cont = filas                               \n",
    "        musculos.close()\n",
    "    except Exception as error:\n",
    "        print(\" \")"
   ]
  },
  {
   "cell_type": "code",
   "execution_count": 15,
   "metadata": {},
   "outputs": [
    {
     "data": {
      "text/plain": [
       "['20', 'burpees', 'pectoral', 'pecho', 'False', '0.5']"
      ]
     },
     "execution_count": 15,
     "metadata": {},
     "output_type": "execute_result"
    }
   ],
   "source": [
    "imprimir_cabeceras()\n",
    "crear_musculos(1,'sentadillas','gluteo mayor', 'gluteos', True, 0.6)\n",
    "crear_musculos(2,'sentadillas','gluteo medio', 'gluteos', True, 0.75)\n",
    "crear_musculos(3,'sentadillas','cuadriceps', 'piernas', True, 0.50)\n",
    "crear_musculos(4,'sentadillas','isquiotibiales', 'piernas', False, 0.65)\n",
    "crear_musculos(5,'zancadas','isquiotibiales', 'piernas', False, 0.65)\n",
    "crear_musculos(6,'zancadas','gluteo mayor', 'piernas', True, 0.6)\n",
    "crear_musculos(7,'zancadas','cuadriceps', 'piernas', True, 0.35)\n",
    "crear_musculos(8,'zancadas','recto abdominal', 'abdomen', True, 0.98)\n",
    "crear_musculos(9,'flexiones de pecho','pectoral', 'pecho', False, 0.5)\n",
    "crear_musculos(10,'flexiones de pecho','triceps', 'brazos', False, 0.25)\n",
    "crear_musculos(11,'flexiones de pecho','deltoides', 'hombro', False, 0.35)\n",
    "crear_musculos(12,'flexiones de pecho','cuadriceps', 'piernas', True, 0.50)\n",
    "crear_musculos(13, 'elevacion de pelvis', 'femorales', 'piernas', True, 0.60)\n",
    "crear_musculos(14, 'elevacion de pelvis', 'gluteo mayor', 'gluteos', True, 0.75)\n",
    "crear_musculos(15, 'plancha', 'recto abdominal', 'abdomen', True, 0.60)\n",
    "crear_musculos(16, 'plancha', 'oblicuo interno', 'abdomen', True, 0.66)\n",
    "crear_musculos(17, 'elevacion de talones', 'gemelos', 'pantorrillas', False, 0.30)\n",
    "crear_musculos(18, 'burpees', 'cuadriceps', 'piernas', True, 0.75)\n",
    "crear_musculos(19, 'burpees', 'triceps', 'brazos', False, 0.40)\n",
    "crear_musculos(20, 'burpees', 'pectoral', 'pecho', False, 0.50)"
   ]
  },
  {
   "cell_type": "code",
   "execution_count": 16,
   "metadata": {},
   "outputs": [
    {
     "name": "stdout",
     "output_type": "stream",
     "text": [
      " \n"
     ]
    }
   ],
   "source": [
    "eliminar_musculo('zancadas','isquiotibiales')"
   ]
  },
  {
   "cell_type": "code",
   "execution_count": 20,
   "metadata": {},
   "outputs": [],
   "source": [
    "# Menú de funcionamiento\n",
    "import random\n",
    "# imprimir_cabeceras()\n",
    "# -------------------------------------------------------------------------#\n",
    "def menu(seleccion):\n",
    "    def creacion_ej():\n",
    "        print('¿Qué ejercicio desea crear? \\n Ingrese los siguientes datos: \\n')\n",
    "        nombre_ejercicio = input('Nombre del ejercicio: ')\n",
    "        duracion_ejercicio = input('Duración diaria del ejercicio en horas: ')\n",
    "        repeticiones_ejercicio = input('Cantidad de repeticiones del ejercicio: ')\n",
    "        EG_ejercicio = input('¿Este ejercicio elimina grasa?: ')\n",
    "        if EG_ejercicio == 'Si':\n",
    "            EG_ejercicio1 = True\n",
    "        else:\n",
    "            EG_ejercicio1 = False\n",
    "\n",
    "        T_ejercicio = input('¿Este ejercicio tonifica?: ')\n",
    "        if T_ejercicio == 'Si':\n",
    "            T_ejercicio1 = True\n",
    "        else:\n",
    "            T_ejercicio1 = False\n",
    "\n",
    "        num = random.randrange(30)\n",
    "        crear_ejercicios(num, nombre_ejercicio, duracion_ejercicio, repeticiones_ejercicio, \n",
    "                         EG_ejercicio1, T_ejercicio1)\n",
    "    #--------------------------------------------------------------------------#\n",
    "    def creacion_mus():\n",
    "        print('ADVERTENCIA: Para crear un músculo debe haber creado un ejercicio')\n",
    "        print('¿Qué musculo desea crear? \\n Ingrese los siguientes datos: \\n')\n",
    "        nombre_musculo = input('Nombre del músculo: ')\n",
    "        nombre_ejercicio = input('Nombre del ejercicio en el que se lo trabaja: ')\n",
    "        ubi_musculo = input('Ubicación del músculo: ')\n",
    "        definido = input('¿Lo tiene definido (SI) o no definido (NO)?: ')\n",
    "        MM_musculo = input('Cantidad de masa muscular: ')\n",
    "        if definido == 'Si':\n",
    "            definido = True\n",
    "        else:\n",
    "            definido = False\n",
    "\n",
    "        num = random.randrange(20)\n",
    "        crear_musculos(num, nombre_ejercicio, nombre_musculo,ubi_musculo,definido,MM_musculo)\n",
    "    #--------------------------------------------------------------------------#\n",
    "    def busqueda():\n",
    "        print('¿Qué ejercicio desea buscar? \\n')\n",
    "        nombre_ejercicio = input('Ingrese el nombre del ejercicio: ')\n",
    "        buscar_ejercicio(nombre_ejercicio)\n",
    "\n",
    "    #--------------------------------------------------------------------------#\n",
    "    def actualizacion():\n",
    "            \n",
    "        def act_ejercicio():\n",
    "            print('¿Qué ejercicio desea actualizar? \\n')\n",
    "            nombre_ejercicio = input('Ingrese el nombre del ejercicio: ')\n",
    "            dato_ejercicio = input('¿Qué dato desea modificar?: ')\n",
    "            nuevo_dato = input('Ingrese el nuevo dato: ')\n",
    "            actualizar_ejercicio(nombre_ejercicio, dato_ejercicio, nuevo_dato)\n",
    "\n",
    "        def act_musculo():\n",
    "            print('¿Qué musculo desea actualizar? \\n')\n",
    "            nombre_ejercicio = input('Ingrese el nombre del ejercicio que trabaja dicho músculo: ')\n",
    "            nombre_musculo = input('Ingrese el nombre del músculo: ')\n",
    "            dato_musculo = input('¿Qué dato desea modificar?: ')            \n",
    "            nuevo_dato = input('Ingrese el nuevo dato: ')\n",
    "            if dato_musculo == 'definicion':\n",
    "                if nuevo_dato == 'Si':\n",
    "                    print('if')\n",
    "                    nuevo_dato = True                \n",
    "                if nuevo_dato == 'No':\n",
    "                    print('else if')\n",
    "                    nuevo_dato = False                                         \n",
    "            \n",
    "            actualizar_musculo(nombre_ejercicio, nombre_musculo, dato_musculo, nuevo_dato)\n",
    "            \n",
    "                \n",
    "        opcion = input('Desea actualizar un ejercicio o un músculo: ')  \n",
    "        if opcion == 'ejercicio':\n",
    "            act_ejercicio()                        \n",
    "        else:\n",
    "            act_musculo()           \n",
    "\n",
    "    #----------------------------------------------------------------------------#\n",
    "    def eliminacion():\n",
    "        \n",
    "        def elm_ejercicio():\n",
    "            print('¿Qué ejercicio desea eliminar? \\n')\n",
    "            nombre_ejercicio = input('Ingrese el nombre del ejercicio: ')\n",
    "            print('ADVERTENCIA: Al eliminar el ejercicio tambien se eliminarán los músculos relacionados a dicho ejercicio')\n",
    "            eliminar_ejercicios(nombre_ejercicio)\n",
    "            \n",
    "        def elm_musculo():\n",
    "            print('¿Qué musculo desea eliminar? \\n')\n",
    "            nombre_ejercicio = input('Ingrese el nombre del ejercicio que trabaja dicho músculo: ')\n",
    "            nombre_musculo = input('Ingrese el nombre del músculo: ')                     \n",
    "            eliminar_musculo(nombre_ejercicio, nombre_musculo)\n",
    "        \n",
    "        opcion = input('Desea eliminar un ejercicio o un músculo: ')  \n",
    "        if opcion == 'ejercicio':\n",
    "            elm_ejercicio()                        \n",
    "        else:\n",
    "            elm_musculo()           \n",
    "            \n",
    "    #---------------------------------------------------------------------------#\n",
    "    def devolver_respuesta():\n",
    "            opciones = {\n",
    "                \"1\": creacion_ej, # Definicion de la funcion\n",
    "                \"2\": creacion_mus,\n",
    "                \"3\": busqueda,\n",
    "                \"4\": actualizacion,\n",
    "                \"5\": eliminacion\n",
    "            }            \n",
    "            return opciones[seleccion]() #Ejecucion de la funcion\n",
    "    return devolver_respuesta()"
   ]
  },
  {
   "cell_type": "code",
   "execution_count": 38,
   "metadata": {},
   "outputs": [
    {
     "name": "stdout",
     "output_type": "stream",
     "text": [
      "Menu de funcionamiento\n",
      "1. Crear un ejercicio\n",
      "2. Crear un músculo\n",
      "3. Buscar un ejercicio\n",
      "4. Actualizar un ejercicio o músculo\n",
      "5. Eliminar un ejercicio o músculo\n",
      "Seleccione una opción: 5\n",
      "Desea eliminar un ejercicio o un músculo: ejercicio\n",
      "¿Qué ejercicio desea eliminar? \n",
      "\n",
      "Ingrese el nombre del ejercicio: abdominales\n",
      "ADVERTENCIA: Al eliminar el ejercicio tambien se eliminarán los músculos relacionados a dicho ejercicio\n"
     ]
    }
   ],
   "source": [
    "print('Menu de funcionamiento')\n",
    "print('1. Crear un ejercicio')    \n",
    "print('2. Crear un músculo')\n",
    "print('3. Buscar un ejercicio')\n",
    "print('4. Actualizar un ejercicio o músculo')\n",
    "print('5. Eliminar un ejercicio o músculo')\n",
    "seleccion = input('Seleccione una opción: ')\n",
    "menu(seleccion)"
   ]
  },
  {
   "cell_type": "code",
   "execution_count": 28,
   "metadata": {
    "scrolled": true
   },
   "outputs": [
    {
     "data": {
      "text/plain": [
       "['20', 'burpees', 'pectoral', 'pecho', 'False', '0.5']"
      ]
     },
     "execution_count": 28,
     "metadata": {},
     "output_type": "execute_result"
    }
   ],
   "source": [
    "imprimir_cabeceras()\n",
    "crear_musculos(1,'sentadillas','gluteo mayor', 'gluteos', True, 0.6)\n",
    "crear_musculos(2,'sentadillas','gluteo medio', 'gluteos', True, 0.75)\n",
    "crear_musculos(3,'sentadillas','cuadriceps', 'piernas', True, 0.50)\n",
    "crear_musculos(4,'sentadillas','isquiotibiales', 'piernas', False, 0.65)\n",
    "crear_musculos(5,'zancadas','isquiotibiales', 'piernas', False, 0.65)\n",
    "crear_musculos(6,'zancadas','gluteo mayor', 'piernas', True, 0.6)\n",
    "crear_musculos(7,'zancadas','cuadriceps', 'piernas', True, 0.35)\n",
    "crear_musculos(8,'zancadas','recto abdominal', 'abdomen', True, 0.98)\n",
    "crear_musculos(9,'flexiones de pecho','pectoral', 'pecho', False, 0.5)\n",
    "crear_musculos(10,'flexiones de pecho','triceps', 'brazos', False, 0.25)\n",
    "crear_musculos(11,'flexiones de pecho','deltoides', 'hombro', False, 0.35)\n",
    "crear_musculos(12,'flexiones de pecho','cuadriceps', 'piernas', True, 0.50)\n",
    "crear_musculos(13, 'elevacion de pelvis', 'femorales', 'piernas', True, 0.60)\n",
    "crear_musculos(14, 'elevacion de pelvis', 'gluteo mayor', 'gluteos', True, 0.75)\n",
    "crear_musculos(15, 'plancha', 'recto abdominal', 'abdomen', True, 0.60)\n",
    "crear_musculos(16, 'plancha', 'oblicuo interno', 'abdomen', True, 0.66)\n",
    "crear_musculos(17, 'elevacion de talones', 'gemelos', 'pantorrillas', False, 0.30)\n",
    "crear_musculos(18, 'burpees', 'cuadriceps', 'piernas', True, 0.75)\n",
    "crear_musculos(19, 'burpees', 'triceps', 'brazos', False, 0.40)\n",
    "crear_musculos(20, 'burpees', 'pectoral', 'pecho', False, 0.50)\n",
    "\n",
    "\n"
   ]
  },
  {
   "cell_type": "code",
   "execution_count": null,
   "metadata": {},
   "outputs": [],
   "source": []
  },
  {
   "cell_type": "code",
   "execution_count": null,
   "metadata": {},
   "outputs": [],
   "source": []
  },
  {
   "cell_type": "code",
   "execution_count": null,
   "metadata": {},
   "outputs": [],
   "source": []
  },
  {
   "cell_type": "code",
   "execution_count": null,
   "metadata": {},
   "outputs": [],
   "source": []
  },
  {
   "cell_type": "code",
   "execution_count": null,
   "metadata": {},
   "outputs": [],
   "source": []
  },
  {
   "cell_type": "code",
   "execution_count": null,
   "metadata": {},
   "outputs": [],
   "source": []
  },
  {
   "cell_type": "code",
   "execution_count": null,
   "metadata": {},
   "outputs": [],
   "source": []
  },
  {
   "cell_type": "code",
   "execution_count": null,
   "metadata": {},
   "outputs": [],
   "source": []
  },
  {
   "cell_type": "code",
   "execution_count": null,
   "metadata": {},
   "outputs": [],
   "source": []
  },
  {
   "cell_type": "code",
   "execution_count": null,
   "metadata": {},
   "outputs": [],
   "source": []
  },
  {
   "cell_type": "code",
   "execution_count": null,
   "metadata": {},
   "outputs": [],
   "source": []
  },
  {
   "cell_type": "code",
   "execution_count": null,
   "metadata": {},
   "outputs": [],
   "source": []
  },
  {
   "cell_type": "code",
   "execution_count": null,
   "metadata": {},
   "outputs": [],
   "source": []
  },
  {
   "cell_type": "code",
   "execution_count": null,
   "metadata": {},
   "outputs": [],
   "source": []
  },
  {
   "cell_type": "code",
   "execution_count": null,
   "metadata": {},
   "outputs": [],
   "source": []
  },
  {
   "cell_type": "code",
   "execution_count": null,
   "metadata": {},
   "outputs": [],
   "source": []
  },
  {
   "cell_type": "code",
   "execution_count": null,
   "metadata": {},
   "outputs": [],
   "source": []
  },
  {
   "cell_type": "code",
   "execution_count": null,
   "metadata": {},
   "outputs": [],
   "source": []
  },
  {
   "cell_type": "code",
   "execution_count": null,
   "metadata": {},
   "outputs": [],
   "source": []
  },
  {
   "cell_type": "code",
   "execution_count": null,
   "metadata": {},
   "outputs": [],
   "source": []
  },
  {
   "cell_type": "code",
   "execution_count": null,
   "metadata": {},
   "outputs": [],
   "source": []
  },
  {
   "cell_type": "code",
   "execution_count": null,
   "metadata": {},
   "outputs": [],
   "source": []
  },
  {
   "cell_type": "code",
   "execution_count": null,
   "metadata": {},
   "outputs": [],
   "source": []
  }
 ],
 "metadata": {
  "kernelspec": {
   "display_name": "Python 3",
   "language": "python",
   "name": "python3"
  },
  "language_info": {
   "codemirror_mode": {
    "name": "ipython",
    "version": 3
   },
   "file_extension": ".py",
   "mimetype": "text/x-python",
   "name": "python",
   "nbconvert_exporter": "python",
   "pygments_lexer": "ipython3",
   "version": "3.7.6"
  }
 },
 "nbformat": 4,
 "nbformat_minor": 4
}

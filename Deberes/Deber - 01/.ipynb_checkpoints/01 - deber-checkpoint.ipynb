{
 "cells": [
  {
   "cell_type": "code",
   "execution_count": 2,
   "metadata": {},
   "outputs": [],
   "source": [
    "def crear_ejercicios(ide, nombre, duracion, repeticiones, elimina_grasa, tonifica):\n",
    "    try:\n",
    "        path = \"./ejercicios.txt\"\n",
    "        ejercicios = open(path, 'a')        \n",
    "        ejercicios.writelines(f\"{ide}\" + \"; \" + \n",
    "                              f\"{nombre}\" + \"; \" + \n",
    "                              f\"{duracion}\" + \"; \" + \n",
    "                              f\"{repeticiones}\" + \"; \" + \n",
    "                              f\"{elimina_grasa}\" + \"; \" + \n",
    "                              f\"{tonifica} \\n\")\n",
    "        # print('llegue aqui')\n",
    "        ejercicios.close()\n",
    "    except Exception as error:\n",
    "        print(\"Error creando ejercicio\")\n",
    "\n",
    "    return [str(ide), nombre, str(duracion), str(repeticiones), \n",
    "                 str(elimina_grasa), str(tonifica)]\n"
   ]
  },
  {
   "cell_type": "code",
   "execution_count": 3,
   "metadata": {},
   "outputs": [],
   "source": [
    "def imprimir_cabeceras():\n",
    "    try:\n",
    "        pathE = \"./ejercicios.txt\"\n",
    "        pathM = \"./musculos.txt\"\n",
    "        #ejercicios = open(pathE, 'w')\n",
    "        musculos = open(pathM, 'w')\n",
    "        #ejercicios.writelines(\"ID, NOMBRE, DURACION, REPETICIONES, ¿ELIMINA GRASA?, ¿TONIFICA? \\n\")\n",
    "        musculos.writelines(\"ID, NOMBRE EJERCICIO, NOMBRE MÚSCULO, UBICACION, ¿DEFINIDO O NO DEFINIDO?, MASA MUSCULAR \\n\")\n",
    "        #ejercicios.close()\n",
    "        musculos.close()\n",
    "    except Exception as error:\n",
    "        print(\"Error escribiendo cabeceras\")\n",
    "    \n",
    "imprimir_cabeceras()"
   ]
  },
  {
   "cell_type": "code",
   "execution_count": 4,
   "metadata": {},
   "outputs": [],
   "source": [
    "def crear_musculos(ide, nombre_ej, nombre, ubicacion, elasticidad, masa_muscular):\n",
    "    try:\n",
    "        path = \"./musculos.txt\"\n",
    "        musculos = open(path, 'a')\n",
    "        musculos.writelines(f\"{ide}\" + \"; \" + \n",
    "                            f\"{nombre_ej}\" + \"; \" +\n",
    "                            f\"{nombre}\" + \"; \" + \n",
    "                            f\"{ubicacion}\" + \"; \" +\n",
    "                            f\"{elasticidad}\" + \"; \" + \n",
    "                            f\"{masa_muscular}\\n\")        \n",
    "        musculos.close()\n",
    "    except Exception as error:\n",
    "        print(\"Error creando musculo\")\n",
    "\n",
    "    return [str(ide), nombre_ej, nombre, ubicacion, str(elasticidad), \n",
    "                 str(masa_muscular)]\n"
   ]
  },
  {
   "cell_type": "code",
   "execution_count": 5,
   "metadata": {},
   "outputs": [],
   "source": [
    "def buscar_ejercicio(nombre):\n",
    "    cont = 0\n",
    "    try:\n",
    "        pathE = \"./ejercicios.txt\"\n",
    "        pathM = \"./musculos.txt\"\n",
    "        ejercicios = open(pathE, 'r')\n",
    "        musculos = open(pathM, 'r')\n",
    "        busquedaE = ejercicios.readlines()\n",
    "        busquedaM = musculos.readlines()\n",
    "        print('EJERCICIO \\n')\n",
    "        for ejercicio in busquedaE:            \n",
    "            if nombre in ejercicio:\n",
    "                print(ejercicio)\n",
    "                break\n",
    "        print('MÚSCULOS \\n')\n",
    "        for musculo in busquedaM:\n",
    "            if nombre in musculo:\n",
    "                print(musculo)\n",
    "    except Exception as error:\n",
    "        print(\"Error buscando el ejercicio\")"
   ]
  },
  {
   "cell_type": "code",
   "execution_count": 6,
   "metadata": {},
   "outputs": [],
   "source": [
    "def actualizar_ejercicio(nombre, nombre_dato, nuevo_dato):    \n",
    "    cont = 0\n",
    "    try:\n",
    "        path = \"./ejercicios.txt\"\n",
    "        ejercicios = open(path, 'r')        \n",
    "        contenido = ejercicios.readlines()                        \n",
    "        opciones = {\n",
    "            #\"ID\": 0, # Definicion de la funcion\n",
    "            #\"NOMBRE\": 1,\n",
    "            \"duracion\": 2,\n",
    "            \"repeticiones\": 3,\n",
    "            \"elimina grasa\": 4,\n",
    "            \"tonifica\": 5\n",
    "        }\n",
    "        columna = opciones.get(nombre_dato, \"Parámetro inválido\")\n",
    "        # print(columna) \n",
    "        filas = [cantidad_filas_ejercicios(nombre)]\n",
    "        # print(filas)\n",
    "        for fila in filas:            \n",
    "            columnas = contenido[fila-1].split(';')            \n",
    "            columnas[columna] = nuevo_dato            \n",
    "            contenido[fila-1] = ';'.join(columnas)            \n",
    "        ejercicios = open(path, 'w')\n",
    "        ejercicios.writelines(contenido)\n",
    "        ejercicios.close()        \n",
    "    except Exception as error:\n",
    "        print(\"Error actualizando ejercicio\")"
   ]
  },
  {
   "cell_type": "code",
   "execution_count": 7,
   "metadata": {},
   "outputs": [],
   "source": [
    "def cantidad_filas_ejercicios(nombre):\n",
    "    cont = 0\n",
    "    try:\n",
    "        pathE = \"./ejercicios.txt\"        \n",
    "        ejercicios = open(pathE, 'r')        \n",
    "        busquedaE = ejercicios.readlines()        \n",
    "        for ejercicio in busquedaE:\n",
    "            cont = cont + 1\n",
    "            if nombre in ejercicio:                \n",
    "                break\n",
    "        lineas = cont        \n",
    "    except Exception as error:\n",
    "        print(\"Error buscando el archivo\")\n",
    "    return lineas   "
   ]
  },
  {
   "cell_type": "code",
   "execution_count": 8,
   "metadata": {},
   "outputs": [
    {
     "data": {
      "text/plain": [
       "7"
      ]
     },
     "execution_count": 8,
     "metadata": {},
     "output_type": "execute_result"
    }
   ],
   "source": [
    "cantidad_filas_ejercicios('plancha')"
   ]
  },
  {
   "cell_type": "code",
   "execution_count": 9,
   "metadata": {},
   "outputs": [],
   "source": [
    "def actualizar_musculo(nombre_ejercicio, nombre_musculo, nombre_dato, nuevo_dato):    \n",
    "    cont = 0\n",
    "    try:\n",
    "        path = \"./musculos.txt\"\n",
    "        musculos = open(path, 'r')        \n",
    "        contenido = musculos.readlines()                        \n",
    "        opciones = {                    \n",
    "            #\"ID\": 0, # Definicion de la funcion\n",
    "            #\"NOMBRE EJERCICIO\": 1,\n",
    "            \"nombre\": 2,\n",
    "            \"ubicacion\": 3,\n",
    "            \"elasticidad\": 4,\n",
    "            \"masa muscular\": 5           \n",
    "        }\n",
    "        columna = opciones.get(nombre_dato, \"Parámetro inválido\")\n",
    "        print(columna) \n",
    "        filas = [cantidad_filas_musculos(nombre_ejercicio, nombre_musculo)]\n",
    "        print(filas)\n",
    "        for fila in filas:            \n",
    "            columnas = contenido[fila-1].split(';')            \n",
    "            columnas[columna] = nuevo_dato            \n",
    "            contenido[fila-1] = ';'.join(columnas)            \n",
    "        musculos = open(path, 'w')\n",
    "        musculos.writelines(contenido)\n",
    "        musculos.close()        \n",
    "    except Exception as error:\n",
    "        print('Error de actualizacion de musculo')"
   ]
  },
  {
   "cell_type": "code",
   "execution_count": 10,
   "metadata": {},
   "outputs": [],
   "source": [
    "def cantidad_filas_musculos(nombre_ejercicio, nombre_musculo):    \n",
    "    contador = 0\n",
    "    try:\n",
    "        pathM = \"./musculos.txt\"        \n",
    "        musculos = open(pathM, 'r')        \n",
    "        busquedaMusculos = musculos.readlines() \n",
    "        print('fuera de for')\n",
    "        for linea in busquedaMusculos:            \n",
    "            contador = contador + 1\n",
    "            #print(nombre_musculo)\n",
    "            print(nombre_ejercicio)\n",
    "            if nombre_ejercicio in linea:  \n",
    "                if nombre_musculo in linea:\n",
    "                    print(nombre_musculo)\n",
    "                    break       \n",
    "    except Exception as error:\n",
    "        print(\"Error buscando el archivo\")\n",
    "    return contador"
   ]
  },
  {
   "cell_type": "code",
   "execution_count": 11,
   "metadata": {},
   "outputs": [
    {
     "name": "stdout",
     "output_type": "stream",
     "text": [
      "fuera de for\n",
      "flexiones de pecho\n"
     ]
    },
    {
     "data": {
      "text/plain": [
       "1"
      ]
     },
     "execution_count": 11,
     "metadata": {},
     "output_type": "execute_result"
    }
   ],
   "source": [
    "cantidad_filas_musculos('flexiones de pecho','deltoides')"
   ]
  },
  {
   "cell_type": "code",
   "execution_count": 24,
   "metadata": {},
   "outputs": [],
   "source": [
    "def eliminar_ejercicios(nombre):    \n",
    "    cont = 0\n",
    "    try:\n",
    "        pathE = \"./ejercicios.txt\"\n",
    "        pathM = \"./musculos.txt\"\n",
    "        ejercicios = open(pathE, 'r')\n",
    "        musculos = open(pathM, 'r')\n",
    "        contenidoE = ejercicios.readlines()\n",
    "        contenidoM = musculos.readlines()\n",
    "        \n",
    "        ejercicios = open(pathE, 'w')\n",
    "        musculos = open(pathM, 'w')        \n",
    "        for ejercicio in contenidoE:             \n",
    "            if nombre not in ejercicio:\n",
    "                ejercicios.write(ejercicio)                \n",
    "        for musculo in contenidoM:             \n",
    "            if nombre not in musculo:\n",
    "                musculos.write(musculo)                \n",
    "    except Exception as error:\n",
    "        print(\"Error eliminando el ejercicio\")"
   ]
  },
  {
   "cell_type": "code",
   "execution_count": 81,
   "metadata": {},
   "outputs": [],
   "source": [
    "def eliminar_musculo(nombre_ejercicio, nombre_musculo):        \n",
    "    cont = 0\n",
    "    elementos = []\n",
    "    try:        \n",
    "        pathM = \"./musculos.txt\"        \n",
    "        musculos = open(pathM, 'r')        \n",
    "        contenidoM = musculos.readlines()          \n",
    "        filas = cantidad_filas_musculos(nombre_ejercicio, nombre_musculo)\n",
    "        print(filas)    \n",
    "        musculos = open(pathM, 'w')\n",
    "        for musculo in contenidoM:\n",
    "            print('entre al fro')            \n",
    "            if contenidoM[cont] not in musculo:\n",
    "            #if nombre_musculo not in musculo: \n",
    "                print('en el if')                \n",
    "                musculos.write(musculo) \n",
    "                print(contenidoM[cont])                                       \n",
    "                cont = cont + 1\n",
    "            if (cont == filas - 1):\n",
    "                break                \n",
    "        musculos.close()\n",
    "    except Exception as error:\n",
    "        print(\"Error eliminando el musculo\")"
   ]
  },
  {
   "cell_type": "code",
   "execution_count": 82,
   "metadata": {},
   "outputs": [
    {
     "data": {
      "text/plain": [
       "['20', 'burpees', 'pectoral', 'pecho', 'False', '0.5']"
      ]
     },
     "execution_count": 82,
     "metadata": {},
     "output_type": "execute_result"
    }
   ],
   "source": [
    "imprimir_cabeceras()\n",
    "crear_musculos(1,'sentadillas','gluteo mayor', 'gluteos', True, 0.6)\n",
    "crear_musculos(2,'sentadillas','gluteo medio', 'gluteos', True, 0.75)\n",
    "crear_musculos(3,'sentadillas','cuadriceps', 'piernas', True, 0.50)\n",
    "crear_musculos(4,'sentadillas','isquiotibiales', 'piernas', False, 0.65)\n",
    "crear_musculos(5,'zancadas','isquiotibiales', 'piernas', False, 0.65)\n",
    "crear_musculos(6,'zancadas','gluteo mayor', 'piernas', True, 0.6)\n",
    "crear_musculos(7,'zancadas','cuadriceps', 'piernas', True, 0.35)\n",
    "crear_musculos(8,'zancadas','recto abdominal', 'abdomen', True, 0.98)\n",
    "crear_musculos(9,'flexiones de pecho','pectoral', 'pecho', False, 0.5)\n",
    "crear_musculos(10,'flexiones de pecho','triceps', 'brazos', False, 0.25)\n",
    "crear_musculos(11,'flexiones de pecho','deltoides', 'hombro', False, 0.35)\n",
    "crear_musculos(12,'flexiones de pecho','cuadriceps', 'piernas', True, 0.50)\n",
    "crear_musculos(13, 'elevacion de pelvis', 'femorales', 'piernas', True, 0.60)\n",
    "crear_musculos(14, 'elevacion de pelvis', 'gluteo mayor', 'gluteos', True, 0.75)\n",
    "crear_musculos(15, 'plancha', 'recto abdominal', 'abdomen', True, 0.60)\n",
    "crear_musculos(16, 'plancha', 'oblicuo interno', 'abdomen', True, 0.66)\n",
    "crear_musculos(17, 'elevacion de talones', 'gemelos', 'pantorrillas', False, 0.30)\n",
    "crear_musculos(18, 'burpees', 'cuadriceps', 'piernas', True, 0.75)\n",
    "crear_musculos(19, 'burpees', 'triceps', 'brazos', False, 0.40)\n",
    "crear_musculos(20, 'burpees', 'pectoral', 'pecho', False, 0.50)"
   ]
  },
  {
   "cell_type": "code",
   "execution_count": 83,
   "metadata": {},
   "outputs": [
    {
     "name": "stdout",
     "output_type": "stream",
     "text": [
      "fuera de for\n",
      "zancadas\n",
      "zancadas\n",
      "zancadas\n",
      "zancadas\n",
      "zancadas\n",
      "zancadas\n",
      "zancadas\n",
      "zancadas\n",
      "cuadriceps\n",
      "8\n",
      "entre al fro\n",
      "entre al fro\n",
      "en el if\n",
      "ID, NOMBRE EJERCICIO, NOMBRE MÚSCULO, UBICACION, ¿DEFINIDO O NO DEFINIDO?, MASA MUSCULAR \n",
      "\n",
      "entre al fro\n",
      "en el if\n",
      "1; sentadillas; gluteo mayor; gluteos; True; 0.6\n",
      "\n",
      "entre al fro\n",
      "en el if\n",
      "2; sentadillas; gluteo medio; gluteos; True; 0.75\n",
      "\n",
      "entre al fro\n",
      "en el if\n",
      "3; sentadillas; cuadriceps; piernas; True; 0.5\n",
      "\n",
      "entre al fro\n",
      "en el if\n",
      "4; sentadillas; isquiotibiales; piernas; False; 0.65\n",
      "\n",
      "entre al fro\n",
      "en el if\n",
      "5; zancadas; isquiotibiales; piernas; False; 0.65\n",
      "\n",
      "entre al fro\n",
      "en el if\n",
      "6; zancadas; gluteo mayor; piernas; True; 0.6\n",
      "\n"
     ]
    }
   ],
   "source": [
    "eliminar_musculo('zancadas','cuadriceps')"
   ]
  },
  {
   "cell_type": "code",
   "execution_count": 26,
   "metadata": {},
   "outputs": [
    {
     "ename": "SyntaxError",
     "evalue": "invalid syntax (<ipython-input-26-a0a6b8afa771>, line 12)",
     "output_type": "error",
     "traceback": [
      "\u001b[0;36m  File \u001b[0;32m\"<ipython-input-26-a0a6b8afa771>\"\u001b[0;36m, line \u001b[0;32m12\u001b[0m\n\u001b[0;31m    vector_temp=(\"\";\"\";\"\";\"\";\"\";\"\")\u001b[0m\n\u001b[0m                   ^\u001b[0m\n\u001b[0;31mSyntaxError\u001b[0m\u001b[0;31m:\u001b[0m invalid syntax\n"
     ]
    }
   ],
   "source": [
    "def eliminar_musculo1(nombre_ejercicio, nombre_musculo):\n",
    "        \n",
    "        linea_elementos=[]\n",
    "        cont=0\n",
    "        try:\n",
    "            path = \"./musculos.txt\"\n",
    "            archivo_abierto = open(path)  #lectura\n",
    "            linea_uno=archivo_abierto.readlines()            \n",
    "            for i in range(len(linea_uno)):\n",
    "                vector_temp=linea_uno[i].split(\";\") \n",
    "                if(vector_temp[0]==nombre_musculo):\n",
    "                    vector_temp=(\"\";\"\";\"\";\"\";\"\";\"\")\n",
    "                else:                    \n",
    "                    cont = cont + 1\n",
    "                    if(cont==len(linea_uno)):\n",
    "                        print(\"alien no existente\")                                \n",
    "                aux=(';'.join(vector_temp))\n",
    "                #print(aux)\n",
    "                if(aux!=\";;;;;\"):                    \n",
    "                    linea_elementos.append(aux)\n",
    "                        \n",
    "            archivo_abierto1= open(path,'w')            \n",
    "            archivo_abierto1.writelines(linea_elementos)                                                                \n",
    "            archivo_abierto1.close()\n",
    "        except Exception as Error:\n",
    "            print(\"Error leyendo Archivo\")        "
   ]
  },
  {
   "cell_type": "code",
   "execution_count": 14,
   "metadata": {},
   "outputs": [],
   "source": [
    "# Menú de funcionamiento\n",
    "import random\n",
    "# imprimir_cabeceras()\n",
    "# -------------------------------------------------------------------------#\n",
    "def menu(seleccion):\n",
    "    def creacion_ej():\n",
    "        print('¿Qué ejercicio desea crear? \\n Ingrese los siguientes datos: \\n')\n",
    "        nombre_ejercicio = input('Nombre del ejercicio: ')\n",
    "        duracion_ejercicio = input('Duración diaria del ejercicio en horas: ')\n",
    "        repeticiones_ejercicio = input('Cantidad de repeticiones del ejercicio: ')\n",
    "        EG_ejercicio = input('¿Este ejercicio elimina grasa?: ')\n",
    "        if EG_ejercicio == 'Si':\n",
    "            EG_ejercicio1 = True\n",
    "        else:\n",
    "            EG_ejercicio1 = False\n",
    "\n",
    "        T_ejercicio = input('¿Este ejercicio tonifica?: ')\n",
    "        if T_ejercicio == 'Si':\n",
    "            T_ejercicio1 = True\n",
    "        else:\n",
    "            T_ejercicio1 = False\n",
    "\n",
    "        num = random.randrange(20)\n",
    "        crear_ejercicios(num, nombre_ejercicio, duracion_ejercicio, repeticiones_ejercicio, \n",
    "                         EG_ejercicio1, T_ejercicio1)\n",
    "    #--------------------------------------------------------------------------#\n",
    "    def creacion_mus():\n",
    "        print('ADVERTENCIA: Para crear un músculo debe haber creado un ejercicio')\n",
    "        print('¿Qué musculo desea crear? \\n Ingrese los siguientes datos: \\n')\n",
    "        nombre_musculo = input('Nombre del músculo: ')\n",
    "        nombre_ejercicio = input('Nombre del ejercicio en el que se lo trabaja: ')\n",
    "        ubi_musculo = input('Ubicación del músculo: ')\n",
    "        definido = input('¿Lo tiene definido (SI) o no definido (NO)?: ')\n",
    "        MM_musculo = input('Cantidad de masa muscular: ')\n",
    "        if definido == 'Si':\n",
    "            definido = True\n",
    "        else:\n",
    "            definido = False\n",
    "\n",
    "        num = random.randrange(20)\n",
    "        crear_musculos(num, nombre_ejercicio, nombre_musculo,ubi_musculo,definido,MM_musculo)\n",
    "    #--------------------------------------------------------------------------#\n",
    "    def busqueda():\n",
    "        print('¿Qué ejercicio desea buscar? \\n')\n",
    "        nombre_ejercicio = input('Ingrese el nombre del ejercicio: ')\n",
    "        buscar_ejercicio(nombre_ejercicio)\n",
    "\n",
    "    #--------------------------------------------------------------------------#\n",
    "    def actualizacion():\n",
    "            \n",
    "        def act_ejercicio():\n",
    "            print('¿Qué ejercicio desea actualizar? \\n')\n",
    "            nombre_ejercicio = input('Ingrese el nombre del ejercicio: ')\n",
    "            dato_ejercicio = input('¿Qué dato desea modificar?: ')\n",
    "            nuevo_dato = input('Ingrese el nuevo dato: ')\n",
    "            actualizar_ejercicio(nombre_ejercicio, dato_ejercicio, nuevo_dato)\n",
    "\n",
    "        def act_musculo():\n",
    "            print('¿Qué musculo desea actualizar? \\n')\n",
    "            nombre_ejercicio = input('Ingrese el nombre del ejercicio que trabaja dicho músculo: ')\n",
    "            nombre_musculo = input('Ingrese el nombre del músculo: ')\n",
    "            dato_musculo = input('¿Qué dato desea modificar?: ')\n",
    "            nuevo_dato = input('Ingrese el nuevo dato: ')\n",
    "            actualizar_musculo(nombre_ejercicio, nombre_musculo, dato_musculo, nuevo_dato)\n",
    "            \n",
    "                \n",
    "        opcion = input('Desea actualizar un ejercicio o un músculo: ')  \n",
    "        if opcion == 'ejercicio':\n",
    "            act_ejercicio()                        \n",
    "        else:\n",
    "            act_musculo()           \n",
    "\n",
    "    #----------------------------------------------------------------------------#\n",
    "    def eliminacion():\n",
    "        \n",
    "        def elm_ejercicio():\n",
    "            print('¿Qué ejercicio desea eliminar? \\n')\n",
    "            nombre_ejercicio = input('Ingrese el nombre del ejercicio: ')\n",
    "            print('ADVERTENCIA: Al eliminar el ejercicio tambien se eliminarán los músculos relacionados a dicho ejercicio')\n",
    "            eliminar_ejercicios(nombre_ejercicio)\n",
    "            \n",
    "        def elm_musculo():\n",
    "            print('¿Qué musculo desea eliminar? \\n')\n",
    "            nombre_ejercicio = input('Ingrese el nombre del ejercicio que trabaja dicho músculo: ')\n",
    "            nombre_musculo = input('Ingrese el nombre del músculo: ')                     \n",
    "            eliminar_musculo(nombre_ejercicio, nombre_musculo)\n",
    "        \n",
    "        opcion = input('Desea eliminar un ejercicio o un músculo: ')  \n",
    "        if opcion == 'ejercicio':\n",
    "            elm_ejercicio()                        \n",
    "        else:\n",
    "            elm_musculo()           \n",
    "            \n",
    "    #---------------------------------------------------------------------------#\n",
    "    def devolver_respuesta():\n",
    "            opciones = {\n",
    "                \"1\": creacion_ej, # Definicion de la funcion\n",
    "                \"2\": creacion_mus,\n",
    "                \"3\": busqueda,\n",
    "                \"4\": actualizacion,\n",
    "                \"5\": eliminacion\n",
    "            }            \n",
    "            return opciones[seleccion]() #Ejecucion de la funcion\n",
    "    return devolver_respuesta()"
   ]
  },
  {
   "cell_type": "code",
   "execution_count": 15,
   "metadata": {},
   "outputs": [
    {
     "name": "stdout",
     "output_type": "stream",
     "text": [
      "Menu de funcionamiento\n",
      "1. Crear un ejercicio\n",
      "2. Crear un músculo\n",
      "3. Buscar un ejercicio\n",
      "4. Actualizar un ejercicio o músculo\n",
      "5. Eliminar un ejercicio o músculo\n"
     ]
    },
    {
     "ename": "KeyboardInterrupt",
     "evalue": "",
     "output_type": "error",
     "traceback": [
      "\u001b[0;31m---------------------------------------------------------------------------\u001b[0m",
      "\u001b[0;31mKeyboardInterrupt\u001b[0m                         Traceback (most recent call last)",
      "\u001b[0;32m~/anaconda3/lib/python3.7/site-packages/ipykernel/kernelbase.py\u001b[0m in \u001b[0;36m_input_request\u001b[0;34m(self, prompt, ident, parent, password)\u001b[0m\n\u001b[1;32m    883\u001b[0m             \u001b[0;32mtry\u001b[0m\u001b[0;34m:\u001b[0m\u001b[0;34m\u001b[0m\u001b[0;34m\u001b[0m\u001b[0m\n\u001b[0;32m--> 884\u001b[0;31m                 \u001b[0mident\u001b[0m\u001b[0;34m,\u001b[0m \u001b[0mreply\u001b[0m \u001b[0;34m=\u001b[0m \u001b[0mself\u001b[0m\u001b[0;34m.\u001b[0m\u001b[0msession\u001b[0m\u001b[0;34m.\u001b[0m\u001b[0mrecv\u001b[0m\u001b[0;34m(\u001b[0m\u001b[0mself\u001b[0m\u001b[0;34m.\u001b[0m\u001b[0mstdin_socket\u001b[0m\u001b[0;34m,\u001b[0m \u001b[0;36m0\u001b[0m\u001b[0;34m)\u001b[0m\u001b[0;34m\u001b[0m\u001b[0;34m\u001b[0m\u001b[0m\n\u001b[0m\u001b[1;32m    885\u001b[0m             \u001b[0;32mexcept\u001b[0m \u001b[0mException\u001b[0m\u001b[0;34m:\u001b[0m\u001b[0;34m\u001b[0m\u001b[0;34m\u001b[0m\u001b[0m\n",
      "\u001b[0;32m~/anaconda3/lib/python3.7/site-packages/jupyter_client/session.py\u001b[0m in \u001b[0;36mrecv\u001b[0;34m(self, socket, mode, content, copy)\u001b[0m\n\u001b[1;32m    802\u001b[0m         \u001b[0;32mtry\u001b[0m\u001b[0;34m:\u001b[0m\u001b[0;34m\u001b[0m\u001b[0;34m\u001b[0m\u001b[0m\n\u001b[0;32m--> 803\u001b[0;31m             \u001b[0mmsg_list\u001b[0m \u001b[0;34m=\u001b[0m \u001b[0msocket\u001b[0m\u001b[0;34m.\u001b[0m\u001b[0mrecv_multipart\u001b[0m\u001b[0;34m(\u001b[0m\u001b[0mmode\u001b[0m\u001b[0;34m,\u001b[0m \u001b[0mcopy\u001b[0m\u001b[0;34m=\u001b[0m\u001b[0mcopy\u001b[0m\u001b[0;34m)\u001b[0m\u001b[0;34m\u001b[0m\u001b[0;34m\u001b[0m\u001b[0m\n\u001b[0m\u001b[1;32m    804\u001b[0m         \u001b[0;32mexcept\u001b[0m \u001b[0mzmq\u001b[0m\u001b[0;34m.\u001b[0m\u001b[0mZMQError\u001b[0m \u001b[0;32mas\u001b[0m \u001b[0me\u001b[0m\u001b[0;34m:\u001b[0m\u001b[0;34m\u001b[0m\u001b[0;34m\u001b[0m\u001b[0m\n",
      "\u001b[0;32m~/anaconda3/lib/python3.7/site-packages/zmq/sugar/socket.py\u001b[0m in \u001b[0;36mrecv_multipart\u001b[0;34m(self, flags, copy, track)\u001b[0m\n\u001b[1;32m    474\u001b[0m         \"\"\"\n\u001b[0;32m--> 475\u001b[0;31m         \u001b[0mparts\u001b[0m \u001b[0;34m=\u001b[0m \u001b[0;34m[\u001b[0m\u001b[0mself\u001b[0m\u001b[0;34m.\u001b[0m\u001b[0mrecv\u001b[0m\u001b[0;34m(\u001b[0m\u001b[0mflags\u001b[0m\u001b[0;34m,\u001b[0m \u001b[0mcopy\u001b[0m\u001b[0;34m=\u001b[0m\u001b[0mcopy\u001b[0m\u001b[0;34m,\u001b[0m \u001b[0mtrack\u001b[0m\u001b[0;34m=\u001b[0m\u001b[0mtrack\u001b[0m\u001b[0;34m)\u001b[0m\u001b[0;34m]\u001b[0m\u001b[0;34m\u001b[0m\u001b[0;34m\u001b[0m\u001b[0m\n\u001b[0m\u001b[1;32m    476\u001b[0m         \u001b[0;31m# have first part already, only loop while more to receive\u001b[0m\u001b[0;34m\u001b[0m\u001b[0;34m\u001b[0m\u001b[0;34m\u001b[0m\u001b[0m\n",
      "\u001b[0;32mzmq/backend/cython/socket.pyx\u001b[0m in \u001b[0;36mzmq.backend.cython.socket.Socket.recv\u001b[0;34m()\u001b[0m\n",
      "\u001b[0;32mzmq/backend/cython/socket.pyx\u001b[0m in \u001b[0;36mzmq.backend.cython.socket.Socket.recv\u001b[0;34m()\u001b[0m\n",
      "\u001b[0;32mzmq/backend/cython/socket.pyx\u001b[0m in \u001b[0;36mzmq.backend.cython.socket._recv_copy\u001b[0;34m()\u001b[0m\n",
      "\u001b[0;32m~/anaconda3/lib/python3.7/site-packages/zmq/backend/cython/checkrc.pxd\u001b[0m in \u001b[0;36mzmq.backend.cython.checkrc._check_rc\u001b[0;34m()\u001b[0m\n",
      "\u001b[0;31mKeyboardInterrupt\u001b[0m: ",
      "\nDuring handling of the above exception, another exception occurred:\n",
      "\u001b[0;31mKeyboardInterrupt\u001b[0m                         Traceback (most recent call last)",
      "\u001b[0;32m<ipython-input-15-bf3be7c352fb>\u001b[0m in \u001b[0;36m<module>\u001b[0;34m\u001b[0m\n\u001b[1;32m      5\u001b[0m \u001b[0mprint\u001b[0m\u001b[0;34m(\u001b[0m\u001b[0;34m'4. Actualizar un ejercicio o músculo'\u001b[0m\u001b[0;34m)\u001b[0m\u001b[0;34m\u001b[0m\u001b[0;34m\u001b[0m\u001b[0m\n\u001b[1;32m      6\u001b[0m \u001b[0mprint\u001b[0m\u001b[0;34m(\u001b[0m\u001b[0;34m'5. Eliminar un ejercicio o músculo'\u001b[0m\u001b[0;34m)\u001b[0m\u001b[0;34m\u001b[0m\u001b[0;34m\u001b[0m\u001b[0m\n\u001b[0;32m----> 7\u001b[0;31m \u001b[0mseleccion\u001b[0m \u001b[0;34m=\u001b[0m \u001b[0minput\u001b[0m\u001b[0;34m(\u001b[0m\u001b[0;34m'Seleccione una opción: '\u001b[0m\u001b[0;34m)\u001b[0m\u001b[0;34m\u001b[0m\u001b[0;34m\u001b[0m\u001b[0m\n\u001b[0m\u001b[1;32m      8\u001b[0m \u001b[0mmenu\u001b[0m\u001b[0;34m(\u001b[0m\u001b[0mseleccion\u001b[0m\u001b[0;34m)\u001b[0m\u001b[0;34m\u001b[0m\u001b[0;34m\u001b[0m\u001b[0m\n",
      "\u001b[0;32m~/anaconda3/lib/python3.7/site-packages/ipykernel/kernelbase.py\u001b[0m in \u001b[0;36mraw_input\u001b[0;34m(self, prompt)\u001b[0m\n\u001b[1;32m    857\u001b[0m             \u001b[0mself\u001b[0m\u001b[0;34m.\u001b[0m\u001b[0m_parent_ident\u001b[0m\u001b[0;34m,\u001b[0m\u001b[0;34m\u001b[0m\u001b[0;34m\u001b[0m\u001b[0m\n\u001b[1;32m    858\u001b[0m             \u001b[0mself\u001b[0m\u001b[0;34m.\u001b[0m\u001b[0m_parent_header\u001b[0m\u001b[0;34m,\u001b[0m\u001b[0;34m\u001b[0m\u001b[0;34m\u001b[0m\u001b[0m\n\u001b[0;32m--> 859\u001b[0;31m             \u001b[0mpassword\u001b[0m\u001b[0;34m=\u001b[0m\u001b[0;32mFalse\u001b[0m\u001b[0;34m,\u001b[0m\u001b[0;34m\u001b[0m\u001b[0;34m\u001b[0m\u001b[0m\n\u001b[0m\u001b[1;32m    860\u001b[0m         )\n\u001b[1;32m    861\u001b[0m \u001b[0;34m\u001b[0m\u001b[0m\n",
      "\u001b[0;32m~/anaconda3/lib/python3.7/site-packages/ipykernel/kernelbase.py\u001b[0m in \u001b[0;36m_input_request\u001b[0;34m(self, prompt, ident, parent, password)\u001b[0m\n\u001b[1;32m    887\u001b[0m             \u001b[0;32mexcept\u001b[0m \u001b[0mKeyboardInterrupt\u001b[0m\u001b[0;34m:\u001b[0m\u001b[0;34m\u001b[0m\u001b[0;34m\u001b[0m\u001b[0m\n\u001b[1;32m    888\u001b[0m                 \u001b[0;31m# re-raise KeyboardInterrupt, to truncate traceback\u001b[0m\u001b[0;34m\u001b[0m\u001b[0;34m\u001b[0m\u001b[0;34m\u001b[0m\u001b[0m\n\u001b[0;32m--> 889\u001b[0;31m                 \u001b[0;32mraise\u001b[0m \u001b[0mKeyboardInterrupt\u001b[0m\u001b[0;34m\u001b[0m\u001b[0;34m\u001b[0m\u001b[0m\n\u001b[0m\u001b[1;32m    890\u001b[0m             \u001b[0;32melse\u001b[0m\u001b[0;34m:\u001b[0m\u001b[0;34m\u001b[0m\u001b[0;34m\u001b[0m\u001b[0m\n\u001b[1;32m    891\u001b[0m                 \u001b[0;32mbreak\u001b[0m\u001b[0;34m\u001b[0m\u001b[0;34m\u001b[0m\u001b[0m\n",
      "\u001b[0;31mKeyboardInterrupt\u001b[0m: "
     ]
    }
   ],
   "source": [
    "print('Menu de funcionamiento')\n",
    "print('1. Crear un ejercicio')    \n",
    "print('2. Crear un músculo')\n",
    "print('3. Buscar un ejercicio')\n",
    "print('4. Actualizar un ejercicio o músculo')\n",
    "print('5. Eliminar un ejercicio o músculo')\n",
    "seleccion = input('Seleccione una opción: ')\n",
    "menu(seleccion)"
   ]
  },
  {
   "cell_type": "code",
   "execution_count": 43,
   "metadata": {},
   "outputs": [
    {
     "data": {
      "text/plain": [
       "['20', 'burpees', 'pectoral', 'pecho', 'False', '0.5']"
      ]
     },
     "execution_count": 43,
     "metadata": {},
     "output_type": "execute_result"
    }
   ],
   "source": [
    "imprimir_cabeceras()\n",
    "crear_musculos(1,'sentadillas','gluteo mayor', 'gluteos', True, 0.6)\n",
    "crear_musculos(2,'sentadillas','gluteo medio', 'gluteos', True, 0.75)\n",
    "crear_musculos(3,'sentadillas','cuadriceps', 'piernas', True, 0.50)\n",
    "crear_musculos(4,'sentadillas','isquiotibiales', 'piernas', False, 0.65)\n",
    "crear_musculos(5,'zancadas','isquiotibiales', 'piernas', False, 0.65)\n",
    "crear_musculos(6,'zancadas','gluteo mayor', 'piernas', True, 0.6)\n",
    "crear_musculos(7,'zancadas','cuadriceps', 'piernas', True, 0.35)\n",
    "crear_musculos(8,'zancadas','recto abdominal', 'abdomen', True, 0.98)\n",
    "crear_musculos(9,'flexiones de pecho','pectoral', 'pecho', False, 0.5)\n",
    "crear_musculos(10,'flexiones de pecho','triceps', 'brazos', False, 0.25)\n",
    "crear_musculos(11,'flexiones de pecho','deltoides', 'hombro', False, 0.35)\n",
    "crear_musculos(12,'flexiones de pecho','cuadriceps', 'piernas', True, 0.50)\n",
    "crear_musculos(13, 'elevacion de pelvis', 'femorales', 'piernas', True, 0.60)\n",
    "crear_musculos(14, 'elevacion de pelvis', 'gluteo mayor', 'gluteos', True, 0.75)\n",
    "crear_musculos(15, 'plancha', 'recto abdominal', 'abdomen', True, 0.60)\n",
    "crear_musculos(16, 'plancha', 'oblicuo interno', 'abdomen', True, 0.66)\n",
    "crear_musculos(17, 'elevacion de talones', 'gemelos', 'pantorrillas', False, 0.30)\n",
    "crear_musculos(18, 'burpees', 'cuadriceps', 'piernas', True, 0.75)\n",
    "crear_musculos(19, 'burpees', 'triceps', 'brazos', False, 0.40)\n",
    "crear_musculos(20, 'burpees', 'pectoral', 'pecho', False, 0.50)\n"
   ]
  },
  {
   "cell_type": "code",
   "execution_count": 42,
   "metadata": {},
   "outputs": [
    {
     "name": "stdout",
     "output_type": "stream",
     "text": [
      "fuera de for\n",
      "zancadas\n",
      "zancadas\n",
      "zancadas\n",
      "zancadas\n",
      "zancadas\n",
      "zancadas\n",
      "zancadas\n",
      "gluteo mayor\n",
      "7\n",
      "Error eliminando el musculo\n"
     ]
    }
   ],
   "source": [
    "eliminar_musculo('zancadas', 'gluteo mayor')"
   ]
  },
  {
   "cell_type": "code",
   "execution_count": null,
   "metadata": {},
   "outputs": [],
   "source": []
  },
  {
   "cell_type": "code",
   "execution_count": null,
   "metadata": {},
   "outputs": [],
   "source": []
  },
  {
   "cell_type": "code",
   "execution_count": null,
   "metadata": {},
   "outputs": [],
   "source": []
  },
  {
   "cell_type": "code",
   "execution_count": null,
   "metadata": {},
   "outputs": [],
   "source": []
  },
  {
   "cell_type": "code",
   "execution_count": null,
   "metadata": {},
   "outputs": [],
   "source": []
  },
  {
   "cell_type": "code",
   "execution_count": null,
   "metadata": {},
   "outputs": [],
   "source": []
  },
  {
   "cell_type": "code",
   "execution_count": null,
   "metadata": {},
   "outputs": [],
   "source": []
  },
  {
   "cell_type": "code",
   "execution_count": null,
   "metadata": {},
   "outputs": [],
   "source": []
  },
  {
   "cell_type": "code",
   "execution_count": null,
   "metadata": {},
   "outputs": [],
   "source": []
  },
  {
   "cell_type": "code",
   "execution_count": null,
   "metadata": {},
   "outputs": [],
   "source": []
  },
  {
   "cell_type": "code",
   "execution_count": null,
   "metadata": {},
   "outputs": [],
   "source": []
  },
  {
   "cell_type": "code",
   "execution_count": null,
   "metadata": {},
   "outputs": [],
   "source": []
  },
  {
   "cell_type": "code",
   "execution_count": null,
   "metadata": {},
   "outputs": [],
   "source": []
  },
  {
   "cell_type": "code",
   "execution_count": null,
   "metadata": {},
   "outputs": [],
   "source": []
  },
  {
   "cell_type": "code",
   "execution_count": null,
   "metadata": {},
   "outputs": [],
   "source": []
  },
  {
   "cell_type": "code",
   "execution_count": null,
   "metadata": {},
   "outputs": [],
   "source": []
  },
  {
   "cell_type": "code",
   "execution_count": null,
   "metadata": {},
   "outputs": [],
   "source": []
  },
  {
   "cell_type": "code",
   "execution_count": null,
   "metadata": {},
   "outputs": [],
   "source": []
  },
  {
   "cell_type": "code",
   "execution_count": null,
   "metadata": {},
   "outputs": [],
   "source": []
  },
  {
   "cell_type": "code",
   "execution_count": null,
   "metadata": {},
   "outputs": [],
   "source": []
  },
  {
   "cell_type": "code",
   "execution_count": null,
   "metadata": {},
   "outputs": [],
   "source": []
  },
  {
   "cell_type": "code",
   "execution_count": null,
   "metadata": {},
   "outputs": [],
   "source": []
  },
  {
   "cell_type": "code",
   "execution_count": null,
   "metadata": {},
   "outputs": [],
   "source": []
  },
  {
   "cell_type": "code",
   "execution_count": null,
   "metadata": {},
   "outputs": [],
   "source": []
  }
 ],
 "metadata": {
  "kernelspec": {
   "display_name": "Python 3",
   "language": "python",
   "name": "python3"
  },
  "language_info": {
   "codemirror_mode": {
    "name": "ipython",
    "version": 3
   },
   "file_extension": ".py",
   "mimetype": "text/x-python",
   "name": "python",
   "nbconvert_exporter": "python",
   "pygments_lexer": "ipython3",
   "version": "3.7.6"
  }
 },
 "nbformat": 4,
 "nbformat_minor": 4
}

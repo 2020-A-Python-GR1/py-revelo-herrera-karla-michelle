{
 "cells": [
  {
   "cell_type": "code",
   "execution_count": null,
   "metadata": {},
   "outputs": [],
   "source": []
  },
  {
   "cell_type": "code",
   "execution_count": 85,
   "metadata": {},
   "outputs": [],
   "source": [
    "from tkinter import *    # Carga módulo tk (widgets estándar)\n",
    "from tkinter import ttk  # Carga ttk (para widgets nuevos 8.5+)\n",
    "import tkinter as tk\n",
    "import tkinter.font as tkFont\n",
    "from PIL import ImageTk,Image\n",
    "import sys\n",
    "from tkinter import filedialog as fd\n",
    "\n",
    "def abrir_imagen():\n",
    "    nombrearch=fd.askopenfilename(initialdir = \"/\",title = \"Seleccione archivo\",filetypes = ((\"png files\",\"*.png\"),(\"todos los archivos\",\"*.*\")))\n",
    "    if nombrearch!='':\n",
    "        inicio = Tk()\n",
    "        image1 = ImageTk.PhotoImage(image2)\n",
    "        background_label = tk.Label(inicio, image=image1)\n",
    "        background_label.image1=image1\n",
    "        background_label.place(x=0, y=0, height=500, width=500)\n",
    "\n",
    "# Define la ventana principal de la aplicación\n",
    "\n",
    "inicio = Tk()\n",
    "\n",
    "# Define las dimensiones de la ventana, que se ubicará en \n",
    "# el centro de la pantalla. Si se omite esta línea la\n",
    "# ventana se adaptará a los widgets que se coloquen en\n",
    "# ella. \n",
    "\n",
    "inicio.geometry('350x500') # anchura x altura\n",
    "\n",
    "# Asigna un color de fondo a la ventana. Si se omite\n",
    "# esta línea el fondo será gris\n",
    "\n",
    "# Asigna un título a la ventana\n",
    "\n",
    "inicio.title('')\n",
    "\n",
    "image2 = Image.open(\"/home/dev-16/Documentos/Universidad/Python-Revelo-Karla/py-revelo-herrera-karla-michelle/fondo.png\")\n",
    "#image2.show()\n",
    "image1 = ImageTk.PhotoImage(image2)\n",
    "background_label = tk.Label(inicio, image=image1)\n",
    "background_label.image1=image1\n",
    "background_label.place(x=0, y=0, height=500, width=500)\n",
    "\n",
    "# Define un botón en la parte inferior de la ventana\n",
    "# que cuando sea presionado hará que termine el programa.\n",
    "# El primer parámetro indica el nombre de la ventana 'raiz'\n",
    "# donde se ubicará el botón\n",
    "fontStyle = tkFont.Font(family=\"Arial\", size=12)\n",
    "\n",
    "tk.Button(inicio, text='CARGAR IMAGEN', font=fontStyle, bg = '#22201C', fg = 'white',\n",
    "         height = 5, width=60, command=abrir_imagen).pack(side=BOTTOM)\n",
    "\n",
    "# Después de definir la ventana principal y un widget botón\n",
    "# la siguiente línea hará que cuando se ejecute el programa\n",
    "# construya y muestre la ventana, quedando a la espera de \n",
    "# que alguna persona interactúe con ella.\n",
    "\n",
    "# Si la persona presiona sobre el botón Cerrar 'X', o bien,\n",
    "# sobre el botón 'Salir' el programa llegará a su fin.\n",
    "\n",
    "inicio.mainloop()"
   ]
  },
  {
   "cell_type": "markdown",
   "metadata": {},
   "source": []
  },
  {
   "cell_type": "code",
   "execution_count": null,
   "metadata": {},
   "outputs": [],
   "source": []
  }
 ],
 "metadata": {
  "kernelspec": {
   "display_name": "Python 3",
   "language": "python",
   "name": "python3"
  },
  "language_info": {
   "codemirror_mode": {
    "name": "ipython",
    "version": 3
   },
   "file_extension": ".py",
   "mimetype": "text/x-python",
   "name": "python",
   "nbconvert_exporter": "python",
   "pygments_lexer": "ipython3",
   "version": "3.7.6"
  }
 },
 "nbformat": 4,
 "nbformat_minor": 4
}

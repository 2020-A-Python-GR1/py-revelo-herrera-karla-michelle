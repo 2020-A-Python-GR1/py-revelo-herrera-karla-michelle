#!/usr/bin/env python3
# -*- coding: utf-8 -*-
"""
Created on Fri Sep 18 21:53:57 2020

@author: dev-16
"""
from tkinter import *    # Carga módulo tk (widgets estándar)
from tkinter import ttk  # Carga ttk (para widgets nuevos 8.5+)
import tkinter as tk
import tkinter.font as tkFont
from PIL import ImageTk,Image
import sys
from tkinter import filedialog as fd

class Aplicacion():
    def __init__(self):
        self.inicio = tk.Tk()
        self.inicio.geometry('350x500') # anchura x altura
        self.inicio.title('')

        image2 = Image.open("/home/dev-16/Documentos/Universidad/Python-Revelo-Karla/py-revelo-herrera-karla-michelle/fondo.png")        
        image1 = ImageTk.PhotoImage(image2)                
        background_label = Label(self.inicio, image=image1)
        background_label.image=image1
        background_label.place(x=0, y=0, height=500, width=500)        

        fontStyle = tkFont.Font(family="Arial", size=12)

        self.botonCargar = tk.Button(self.inicio, text='CARGAR IMAGEN', font=fontStyle, bg = '#22201C', fg = 'white',
                 height = 5, width=60, command= abrir_imagen).pack(side=BOTTOM)

        self.inicio.mainloop()
def main():
    mi_app = Aplicacion()
    return 0

if __name__ == '__main__':
    abrir_imagen()


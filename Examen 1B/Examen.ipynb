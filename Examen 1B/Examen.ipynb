{
 "cells": [
  {
   "cell_type": "markdown",
   "metadata": {},
   "source": [
    "# 1) Examen"
   ]
  },
  {
   "cell_type": "code",
   "execution_count": null,
   "metadata": {},
   "outputs": [],
   "source": [
    "import numpy as np\n",
    "import pandas as pd"
   ]
  },
  {
   "cell_type": "markdown",
   "metadata": {},
   "source": [
    "## 2) Crear un vector de ceros de tamaño 10"
   ]
  },
  {
   "cell_type": "code",
   "execution_count": 12,
   "metadata": {},
   "outputs": [
    {
     "name": "stdout",
     "output_type": "stream",
     "text": [
      "[0. 0. 0. 0. 0. 0. 0. 0. 0. 0.]\n"
     ]
    }
   ],
   "source": [
    "ejercicio2 = np.zeros(10)\n",
    "print(ejercicio2)"
   ]
  },
  {
   "cell_type": "markdown",
   "metadata": {},
   "source": [
    "## 3) Crear un vector de ceros de tamaño 10 y el de la posicion 5 sea igual a 1"
   ]
  },
  {
   "cell_type": "code",
   "execution_count": 13,
   "metadata": {},
   "outputs": [
    {
     "name": "stdout",
     "output_type": "stream",
     "text": [
      "[0. 0. 0. 0. 1. 0. 0. 0. 0. 0.]\n"
     ]
    }
   ],
   "source": [
    "ejercicio3 = np.zeros(10)\n",
    "#print(ejercicio3)\n",
    "ejercicio3[4]=1\n",
    "print(ejercicio3)"
   ]
  },
  {
   "cell_type": "markdown",
   "metadata": {},
   "source": [
    "## 4) Cambiar el orden de un vector de 50 elementos, el de la posicion 1 es el de la 50 etc."
   ]
  },
  {
   "cell_type": "code",
   "execution_count": 15,
   "metadata": {},
   "outputs": [
    {
     "name": "stdout",
     "output_type": "stream",
     "text": [
      "[49 48 47 46 45 44 43 42 41 40 39 38 37 36 35 34 33 32 31 30 29 28 27 26\n",
      " 25 24 23 22 21 20 19 18 17 16 15 14 13 12 11 10  9  8  7  6  5  4  3  2\n",
      "  1  0]\n"
     ]
    }
   ],
   "source": [
    "ejercicio4 = np.arange(50)\n",
    "#print(respuesta4)\n",
    "ejercicio4 = ejercicio4[::-1]\n",
    "print(ejercicio4)"
   ]
  },
  {
   "cell_type": "markdown",
   "metadata": {},
   "source": [
    "## 5) Crear una matriz de 3 x 3 con valores del cero al 8"
   ]
  },
  {
   "cell_type": "code",
   "execution_count": 16,
   "metadata": {},
   "outputs": [
    {
     "name": "stdout",
     "output_type": "stream",
     "text": [
      "[[0 1 2]\n",
      " [3 4 5]\n",
      " [6 7 8]]\n"
     ]
    }
   ],
   "source": [
    "ejercicio5 = np.arange(9).reshape(3,3)\n",
    "print(ejercicio5)"
   ]
  },
  {
   "cell_type": "markdown",
   "metadata": {},
   "source": [
    "## 6) Encontrar los indices que no sean cero en un arreglo"
   ]
  },
  {
   "cell_type": "code",
   "execution_count": 11,
   "metadata": {},
   "outputs": [
    {
     "name": "stdout",
     "output_type": "stream",
     "text": [
      "Los indices que no son cero son (array([0, 1, 4]),)\n"
     ]
    }
   ],
   "source": [
    "arreglo = [1,2,0,0,4,0]\n",
    "indices_no_ceros = np.nonzero(arreglo)\n",
    "print(f'Los indices que no son cero son {indices_no_ceros}')"
   ]
  },
  {
   "cell_type": "markdown",
   "metadata": {},
   "source": [
    "## 7) Crear una matriz de identidad 3 x 3 "
   ]
  },
  {
   "cell_type": "code",
   "execution_count": 17,
   "metadata": {},
   "outputs": [
    {
     "name": "stdout",
     "output_type": "stream",
     "text": [
      "[[1. 0. 0.]\n",
      " [0. 1. 0.]\n",
      " [0. 0. 1.]]\n"
     ]
    }
   ],
   "source": [
    "ejercicio7 = np.eye(3)\n",
    "print(ejercicio7)"
   ]
  },
  {
   "cell_type": "markdown",
   "metadata": {},
   "source": [
    "## 8) Crear una matriz 3 x 3 x 3 con valores randomicos"
   ]
  },
  {
   "cell_type": "code",
   "execution_count": 21,
   "metadata": {},
   "outputs": [
    {
     "name": "stdout",
     "output_type": "stream",
     "text": [
      "[[[0.76391659 0.06202009 0.90019669]\n",
      "  [0.22801948 0.27959645 0.76727862]\n",
      "  [0.33166215 0.29799465 0.74993915]]\n",
      "\n",
      " [[0.7712874  0.64550873 0.58642174]\n",
      "  [0.68396126 0.62394861 0.19876891]\n",
      "  [0.84996819 0.20715516 0.8326484 ]]\n",
      "\n",
      " [[0.71698002 0.29533494 0.4367665 ]\n",
      "  [0.25809821 0.81129764 0.10493819]\n",
      "  [0.6694066  0.21913986 0.06502762]]]\n"
     ]
    }
   ],
   "source": [
    "ejercicio8 = np.random.rand(3,3,3)\n",
    "print(ejercicio8)"
   ]
  },
  {
   "cell_type": "markdown",
   "metadata": {},
   "source": [
    "## 9) Crear una matriz 10 x 10 y encontrar el mayor y el menor"
   ]
  },
  {
   "cell_type": "code",
   "execution_count": 22,
   "metadata": {},
   "outputs": [
    {
     "name": "stdout",
     "output_type": "stream",
     "text": [
      "[[0.38602068 0.39525324 0.01893298 0.25726178 0.13032724 0.00144173\n",
      "  0.27294537 0.55730205 0.38813755 0.24040805]\n",
      " [0.85977086 0.46797455 0.39592232 0.36746637 0.55502637 0.77516222\n",
      "  0.55381856 0.12575291 0.84155885 0.67779935]\n",
      " [0.12746007 0.14767425 0.55814772 0.23777202 0.31856119 0.43935706\n",
      "  0.99029263 0.22218953 0.85209397 0.70071049]\n",
      " [0.71306289 0.20803062 0.10315347 0.35186027 0.07423374 0.63466848\n",
      "  0.81231983 0.62357207 0.31898295 0.08065561]\n",
      " [0.07458023 0.55828581 0.10648833 0.07154219 0.87768046 0.87508018\n",
      "  0.06629156 0.4178042  0.91976618 0.08668942]\n",
      " [0.71474749 0.5729929  0.69172033 0.62149605 0.54452368 0.11617851\n",
      "  0.96833863 0.1691692  0.78059965 0.83585135]\n",
      " [0.30595812 0.48413133 0.63644962 0.75049032 0.99822251 0.02038791\n",
      "  0.22040977 0.70700673 0.8531558  0.3804966 ]\n",
      " [0.72245929 0.94621895 0.29383781 0.51320148 0.65009346 0.49272894\n",
      "  0.83518053 0.01786351 0.38382917 0.12040452]\n",
      " [0.13808678 0.73247203 0.7185815  0.76104783 0.25921521 0.84203941\n",
      "  0.0800147  0.77763832 0.00185806 0.64532668]\n",
      " [0.77583236 0.6230925  0.29799963 0.9291238  0.81651709 0.35267705\n",
      "  0.58652075 0.183134   0.27998096 0.63859109]]\n",
      "El numero mayor es 0.9982225062368226\n",
      "El numero menor es 0.00144172912399676\n"
     ]
    }
   ],
   "source": [
    "ejercicio9 = np.random.rand(10,10)\n",
    "mayor = ejercicio9.max()\n",
    "menor = ejercicio9.min()\n",
    "print(ejercicio9)\n",
    "print(f'El numero mayor es {mayor}')\n",
    "print(f'El numero menor es {menor}')"
   ]
  },
  {
   "cell_type": "markdown",
   "metadata": {},
   "source": [
    "## 10) Sacar los colores RGB unicos en una imagen (cuales rgb existen ej: 0, 0, 0 - 255,255,255 -> 2 colores)"
   ]
  },
  {
   "cell_type": "code",
   "execution_count": 32,
   "metadata": {},
   "outputs": [
    {
     "name": "stdout",
     "output_type": "stream",
     "text": [
      "[[  0   0   5]\n",
      " [  0   0   7]\n",
      " [  0   0   9]\n",
      " ...\n",
      " [255 248 255]\n",
      " [255 249 255]\n",
      " [255 252 255]]\n",
      "Color 1 : [255 252 255]\n",
      "Color 2 : [255 249 255]\n"
     ]
    }
   ],
   "source": [
    "from scipy import ndimage\n",
    "from scipy import misc\n",
    "imagen = misc.face()\n",
    "\n",
    "rgb_todos = imagen.reshape(imagen.shape[0] * imagen.shape[1], imagen.shape[2])\n",
    "#print(rgb_todos)\n",
    "rgb_unicos = np.unique(rgb_todos, axis=0)\n",
    "print(rgb_unicos)\n",
    "print(f'Color 1 : {rgb_unicos[-1]}')\n",
    "print(f'Color 2 : {rgb_unicos[-2]}')"
   ]
  },
  {
   "cell_type": "markdown",
   "metadata": {},
   "source": [
    "## 11) ¿Como crear una serie de una lista, diccionario o arreglo?"
   ]
  },
  {
   "cell_type": "code",
   "execution_count": 35,
   "metadata": {},
   "outputs": [],
   "source": [
    "mylist = list('abcedfghijklmnopqrstuvwxyz')\n",
    "myarr = np.arange(26)\n",
    "mydict = dict(zip(mylist, myarr))\n",
    "\n",
    "serie_list = pd.Series(mylist)\n",
    "serie_arr = pd.Series(myarr)\n",
    "serie_dict = pd.Series(mydict)\n",
    "\n",
    "#print(serie_list)\n",
    "#print(serie_arr)\n",
    "#print(serie_dict)"
   ]
  },
  {
   "cell_type": "markdown",
   "metadata": {},
   "source": [
    "## 12) ¿Como convertir el indice de una serie en una columna de un DataFrame?"
   ]
  },
  {
   "cell_type": "code",
   "execution_count": 37,
   "metadata": {},
   "outputs": [
    {
     "name": "stdout",
     "output_type": "stream",
     "text": [
      "     0\n",
      "0     \n",
      "0    0\n",
      "1    1\n",
      "2    2\n",
      "3    3\n",
      "4    4\n",
      "5    5\n",
      "6    6\n",
      "7    7\n",
      "8    8\n",
      "9    9\n",
      "10  10\n",
      "11  11\n",
      "12  12\n",
      "13  13\n",
      "14  14\n",
      "15  15\n",
      "16  16\n",
      "17  17\n",
      "18  18\n",
      "19  19\n",
      "20  20\n",
      "21  21\n",
      "22  22\n",
      "23  23\n",
      "24  24\n",
      "25  25\n"
     ]
    }
   ],
   "source": [
    "mylist = list('abcedfghijklmnopqrstuvwxyz')\n",
    "myarr = np.arange(26)\n",
    "mydict = dict(zip(mylist, myarr))\n",
    "ser = pd.Series(mydict) \n",
    "\n",
    "# Transformar la serie en dataframe y hacer una columna indice\n",
    "\n",
    "df12 = pd.DataFrame(ser)\n",
    "df12.index = df12[0]\n",
    "print(df12)"
   ]
  },
  {
   "cell_type": "markdown",
   "metadata": {},
   "source": [
    "## 13) ¿Como combinar varias series para hacer un DataFrame?"
   ]
  },
  {
   "cell_type": "code",
   "execution_count": 39,
   "metadata": {},
   "outputs": [
    {
     "name": "stdout",
     "output_type": "stream",
     "text": [
      "   Serie 1  Serie 2\n",
      "0        a        0\n",
      "1        b        1\n",
      "2        c        2\n",
      "3        e        3\n",
      "4        d        4\n",
      "5        f        5\n",
      "6        g        6\n",
      "7        h        7\n",
      "8        i        8\n",
      "9        j        9\n",
      "10       k       10\n",
      "11       l       11\n",
      "12       m       12\n",
      "13       n       13\n",
      "14       o       14\n",
      "15       p       15\n",
      "16       q       16\n",
      "17       r       17\n",
      "18       s       18\n",
      "19       t       19\n",
      "20       u       20\n",
      "21       v       21\n",
      "22       w       22\n",
      "23       x       23\n",
      "24       y       24\n",
      "25       z       25\n"
     ]
    }
   ],
   "source": [
    "ser1 = pd.Series(list('abcedfghijklmnopqrstuvwxyz'))\n",
    "ser2 = pd.Series(np.arange(26))\n",
    "df13 = pd.DataFrame({'Serie 1': ser1, 'Serie 2': ser2})\n",
    "print(df13)"
   ]
  },
  {
   "cell_type": "markdown",
   "metadata": {},
   "source": [
    "## 14) ¿Como obtener los items que esten en una serie A y no en una serie B?"
   ]
  },
  {
   "cell_type": "code",
   "execution_count": 46,
   "metadata": {},
   "outputs": [
    {
     "name": "stdout",
     "output_type": "stream",
     "text": [
      "Los items que están en A y no en B son: \n",
      "0    1\n",
      "1    2\n",
      "2    3\n",
      "dtype: int64\n"
     ]
    }
   ],
   "source": [
    "ser1 = pd.Series([1, 2, 3, 4, 5])\n",
    "ser2 = pd.Series([4, 5, 6, 7, 8])\n",
    "\n",
    "items_en_a_y_b = ser1.isin(ser2)\n",
    "#print(items_en_a_y_b)\n",
    "items_en_a_y_no_b = ser1[~items_en_a_y_b]\n",
    "print(f'Los items que están en A y no en B son: \\n{items_en_a_y_no_b}')"
   ]
  },
  {
   "cell_type": "markdown",
   "metadata": {},
   "source": [
    "## 15) ¿Como obtener los items que no son comunes en una serie A y serie B?"
   ]
  },
  {
   "cell_type": "code",
   "execution_count": 48,
   "metadata": {},
   "outputs": [
    {
     "name": "stdout",
     "output_type": "stream",
     "text": [
      "Los items no comunes entre a y b son: [1 2 3 6 7 8]\n"
     ]
    }
   ],
   "source": [
    "ser1 = pd.Series([1, 2, 3, 4, 5])\n",
    "ser2 = pd.Series([4, 5, 6, 7, 8])\n",
    "\n",
    "items_en_a_y_no_b = ser1[~ser1.isin(ser2)]\n",
    "items_en_b_y_no_a = ser2[~ser2.isin(ser1)]\n",
    "items_no_comunes = np.append(items_en_a_y_no_b, items_en_b_y_no_a)\n",
    "print(f'Los items no comunes entre a y b son: {items_no_comunes}')"
   ]
  },
  {
   "cell_type": "markdown",
   "metadata": {},
   "source": [
    "## 16) ¿Como obtener el numero de veces que se repite un valor en una serie?"
   ]
  },
  {
   "cell_type": "code",
   "execution_count": 49,
   "metadata": {},
   "outputs": [
    {
     "name": "stdout",
     "output_type": "stream",
     "text": [
      "a    7\n",
      "f    5\n",
      "d    5\n",
      "g    4\n",
      "b    4\n",
      "e    3\n",
      "h    1\n",
      "c    1\n",
      "dtype: int64\n"
     ]
    }
   ],
   "source": [
    "ser = pd.Series(np.take(list('abcdefgh'), np.random.randint(8, size=30)))\n",
    "num_veces = ser.value_counts()\n",
    "print(num_veces)"
   ]
  },
  {
   "cell_type": "markdown",
   "metadata": {},
   "source": [
    "## 17) ¿Como mantener los 2 valores mas repetidos de una serie, y a los demas valores cambiarles por 0 ?"
   ]
  },
  {
   "cell_type": "code",
   "execution_count": 57,
   "metadata": {},
   "outputs": [
    {
     "name": "stdout",
     "output_type": "stream",
     "text": [
      "Serie \n",
      "0     1\n",
      "1     4\n",
      "2     4\n",
      "3     1\n",
      "4     4\n",
      "5     2\n",
      "6     2\n",
      "7     4\n",
      "8     2\n",
      "9     2\n",
      "10    1\n",
      "11    2\n",
      "dtype: int64\n",
      "\n",
      "Contador de repeticiones \n",
      "2    5\n",
      "4    4\n",
      "1    3\n",
      "dtype: int64\n",
      "\n",
      "Serie cambiada a 0 \n",
      "0     0\n",
      "1     4\n",
      "2     4\n",
      "3     0\n",
      "4     4\n",
      "5     2\n",
      "6     2\n",
      "7     4\n",
      "8     2\n",
      "9     2\n",
      "10    0\n",
      "11    2\n",
      "dtype: int64\n"
     ]
    }
   ],
   "source": [
    "np.random.RandomState(100)\n",
    "ser = pd.Series(np.random.randint(1, 5, [12]))\n",
    "print(f'Serie \\n{ser}')\n",
    "num_veces = ser.value_counts()\n",
    "print(f'\\nContador de repeticiones \\n{num_veces}')\n",
    "ser[~ser.isin(ser.value_counts().index[:2])] = 0\n",
    "print(f'\\nSerie cambiada a 0 \\n{ser}')"
   ]
  },
  {
   "cell_type": "markdown",
   "metadata": {},
   "source": [
    "## 18) ¿Como transformar una serie de un arreglo de numpy a un DataFrame con un `shape` definido?"
   ]
  },
  {
   "cell_type": "code",
   "execution_count": 58,
   "metadata": {},
   "outputs": [
    {
     "name": "stdout",
     "output_type": "stream",
     "text": [
      "   0  1  2  3  4\n",
      "0  6  7  8  3  4\n",
      "1  9  9  8  5  9\n",
      "2  9  6  1  8  1\n",
      "3  1  5  9  8  2\n",
      "4  4  8  2  4  7\n",
      "5  4  3  7  4  4\n",
      "6  5  1  5  7  9\n"
     ]
    }
   ],
   "source": [
    "ser = pd.Series(np.random.randint(1, 10, 35))\n",
    "shape = (7,5)\n",
    "df18 = pd.DataFrame(ser.values.reshape(shape))\n",
    "print(df18)"
   ]
  },
  {
   "cell_type": "markdown",
   "metadata": {},
   "source": [
    "## 19) ¿Obtener los valores de una serie conociendo la posicion por indice?"
   ]
  },
  {
   "cell_type": "code",
   "execution_count": 59,
   "metadata": {},
   "outputs": [
    {
     "name": "stdout",
     "output_type": "stream",
     "text": [
      "0     a\n",
      "4     e\n",
      "8     i\n",
      "14    o\n",
      "20    u\n",
      "dtype: object\n"
     ]
    }
   ],
   "source": [
    "ser = pd.Series(list('abcdefghijklmnopqrstuvwxyz'))\n",
    "pos = [0, 4, 8, 14, 20]\n",
    "# a e i o u\n",
    "\n",
    "ejercicio19 = ser[pos]\n",
    "print(ejercicio19)"
   ]
  },
  {
   "cell_type": "markdown",
   "metadata": {},
   "source": [
    "## 20) ¿Como anadir series vertical u horizontalmente a un DataFrame?"
   ]
  },
  {
   "cell_type": "code",
   "execution_count": 83,
   "metadata": {},
   "outputs": [
    {
     "name": "stdout",
     "output_type": "stream",
     "text": [
      "   0  1\n",
      "0  0  a\n",
      "1  1  b\n",
      "2  2  c\n",
      "3  3  d\n",
      "4  4  e\n",
      "   0    1    2    3    4\n",
      "0  0  NaN  NaN  NaN  NaN\n",
      "1  1  NaN  NaN  NaN  NaN\n",
      "2  2  NaN  NaN  NaN  NaN\n",
      "3  3  NaN  NaN  NaN  NaN\n",
      "4  4  NaN  NaN  NaN  NaN\n",
      "5  a    b    c    d    e\n"
     ]
    }
   ],
   "source": [
    "ser1 = pd.Series(range(5))\n",
    "ser2 = pd.Series(list('abcde'))\n",
    "\n",
    "df20A = pd.DataFrame(ser1)\n",
    "df20B = pd.DataFrame(ser1)\n",
    "\n",
    "# Añadir series vertical\n",
    "df20A[1] = ser2\n",
    "print(df20A)\n",
    "\n",
    "# Añadir series horizontal\n",
    "df20B = df20B.append(ser2, ignore_index = True)\n",
    "print(df20B)\n"
   ]
  },
  {
   "cell_type": "markdown",
   "metadata": {},
   "source": [
    "## 21)¿Obtener la media de una serie agrupada por otra serie?"
   ]
  },
  {
   "cell_type": "code",
   "execution_count": 72,
   "metadata": {},
   "outputs": [
    {
     "name": "stdout",
     "output_type": "stream",
     "text": [
      "[1.0, 2.0, 3.0, 4.0, 5.0, 6.0, 7.0, 8.0, 9.0, 10.0]\n",
      "['manzana', 'zanahoria', 'manzana', 'banana', 'zanahoria', 'zanahoria', 'zanahoria', 'manzana', 'banana', 'manzana']\n"
     ]
    },
    {
     "data": {
      "text/html": [
       "<div>\n",
       "<style scoped>\n",
       "    .dataframe tbody tr th:only-of-type {\n",
       "        vertical-align: middle;\n",
       "    }\n",
       "\n",
       "    .dataframe tbody tr th {\n",
       "        vertical-align: top;\n",
       "    }\n",
       "\n",
       "    .dataframe thead th {\n",
       "        text-align: right;\n",
       "    }\n",
       "</style>\n",
       "<table border=\"1\" class=\"dataframe\">\n",
       "  <thead>\n",
       "    <tr style=\"text-align: right;\">\n",
       "      <th></th>\n",
       "      <th>Pesos</th>\n",
       "    </tr>\n",
       "    <tr>\n",
       "      <th>Frutas</th>\n",
       "      <th></th>\n",
       "    </tr>\n",
       "  </thead>\n",
       "  <tbody>\n",
       "    <tr>\n",
       "      <th>banana</th>\n",
       "      <td>6.5</td>\n",
       "    </tr>\n",
       "    <tr>\n",
       "      <th>manzana</th>\n",
       "      <td>5.5</td>\n",
       "    </tr>\n",
       "    <tr>\n",
       "      <th>zanahoria</th>\n",
       "      <td>5.0</td>\n",
       "    </tr>\n",
       "  </tbody>\n",
       "</table>\n",
       "</div>"
      ],
      "text/plain": [
       "           Pesos\n",
       "Frutas          \n",
       "banana       6.5\n",
       "manzana      5.5\n",
       "zanahoria    5.0"
      ]
     },
     "execution_count": 72,
     "metadata": {},
     "output_type": "execute_result"
    }
   ],
   "source": [
    "frutas = pd.Series(np.random.choice(['manzana', 'banana', 'zanahoria'], 10))\n",
    "pesos = pd.Series(np.linspace(1, 10, 10))\n",
    "print(pesos.tolist())\n",
    "print(frutas.tolist())\n",
    "#> [1.0, 2.0, 3.0, 4.0, 5.0, 6.0, 7.0, 8.0, 9.0, 10.0]\n",
    "#> ['banana', 'carrot', 'apple', 'carrot', 'carrot', 'apple', 'banana', 'carrot', 'apple', 'carrot']\n",
    "\n",
    "# Los valores van a cambiar por ser random\n",
    "# apple     6.0\n",
    "# banana    4.0\n",
    "# carrot    5.8\n",
    "# dtype: float64\n",
    "\n",
    "df21 = pd.DataFrame({\n",
    "        'Frutas': frutas,\n",
    "        'Pesos': pesos})\n",
    "df21.groupby(['Frutas']).mean()"
   ]
  },
  {
   "cell_type": "markdown",
   "metadata": {},
   "source": [
    "## 22)¿Como importar solo columnas especificas de un archivo csv?"
   ]
  },
  {
   "cell_type": "code",
   "execution_count": 79,
   "metadata": {},
   "outputs": [
    {
     "name": "stdout",
     "output_type": "stream",
     "text": [
      "      crim    zn  indus    nox   age\n",
      "0  0.00632  18.0   2.31  0.538  65.2\n",
      "1  0.02731   0.0   7.07  0.469  78.9\n",
      "2  0.02729   0.0   7.07  0.469  61.1\n",
      "3  0.03237   0.0   2.18  0.458  45.8\n",
      "4  0.06905   0.0   2.18  0.458  54.2\n"
     ]
    }
   ],
   "source": [
    "# url: https://raw.githubusercontent.com/selva86/datasets/master/BostonHousing.csv.\n",
    "\n",
    "path = 'https://raw.githubusercontent.com/selva86/datasets/master/BostonHousing.csv'\n",
    "\n",
    "df22_completo = pd.read_csv(path)\n",
    "#print(df22_completo)\n",
    "\n",
    "columnas = ['crim', 'zn','indus', 'age', 'nox']\n",
    "df22_columnas = pd.read_csv(path,  usecols=columnas)\n",
    "print(df22_columnas.head())"
   ]
  },
  {
   "cell_type": "code",
   "execution_count": null,
   "metadata": {},
   "outputs": [],
   "source": []
  }
 ],
 "metadata": {
  "kernelspec": {
   "display_name": "Python 3",
   "language": "python",
   "name": "python3"
  },
  "language_info": {
   "codemirror_mode": {
    "name": "ipython",
    "version": 3
   },
   "file_extension": ".py",
   "mimetype": "text/x-python",
   "name": "python",
   "nbconvert_exporter": "python",
   "pygments_lexer": "ipython3",
   "version": "3.7.6"
  }
 },
 "nbformat": 4,
 "nbformat_minor": 4
}
